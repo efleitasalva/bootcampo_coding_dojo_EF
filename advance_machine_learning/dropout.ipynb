{
 "cells": [
  {
   "cell_type": "code",
   "execution_count": 1,
   "metadata": {},
   "outputs": [
    {
     "name": "stderr",
     "output_type": "stream",
     "text": [
      "c:\\Users\\ENRIF\\anaconda3\\envs\\bootcamp_coding_dojo\\Lib\\site-packages\\keras\\src\\layers\\core\\dense.py:87: UserWarning: Do not pass an `input_shape`/`input_dim` argument to a layer. When using Sequential models, prefer using an `Input(shape)` object as the first layer in the model instead.\n",
      "  super().__init__(activity_regularizer=activity_regularizer, **kwargs)\n"
     ]
    }
   ],
   "source": [
    "from tensorflow.keras.models import Sequential\n",
    "from tensorflow.keras.layers import Dense, Dropout\n",
    "\n",
    "# Crear el modelo con Dropout\n",
    "model = Sequential([\n",
    "    Dense(128, activation='relu', input_shape=(28*28,)),\n",
    "    Dropout(0.5),\n",
    "    Dense(64, activation='relu'),\n",
    "    Dropout(0.5),\n",
    "    Dense(10, activation='softmax')\n",
    "])\n",
    "\n",
    "# Compilar el modelo\n",
    "model.compile(optimizer='adam', loss='categorical_crossentropy', metrics=['accuracy'])"
   ]
  },
  {
   "cell_type": "markdown",
   "metadata": {},
   "source": [
    "Consideraciones y Limitaciones\n",
    "\n",
    "Aunque Dropout es una técnica poderosa, es importante tener en cuenta algunas consideraciones y limitaciones:\n",
    "\n",
    " \n",
    "\n",
    "Tasa de Dropout\n",
    "\n",
    "La tasa de Dropout (el porcentaje de neuronas que se apagan) es un hiperparámetro que debe ser cuidadosamente ajustado. Una tasa de Dropout demasiado alta puede llevar a que la red no aprenda lo suficiente, mientras que una tasa demasiado baja puede no ser suficiente para prevenir el sobreajuste. Las tasas comunes oscilan entre 0.2 y 0.5.\n",
    "\n",
    " \n",
    "\n",
    "No Aplicable Durante la Evaluación\n",
    "\n",
    "Es importante recordar que Dropout solo se aplica durante el entrenamiento. Durante la evaluación o cuando el modelo se utiliza para hacer predicciones, todas las neuronas están activas, aunque sus salidas están escaladas para compensar el Dropout aplicado durante el entrenamiento.\n",
    "\n",
    " \n",
    "\n",
    "No Siempre Necesario\n",
    "\n",
    "En algunos casos, especialmente en conjuntos de datos muy grandes o redes que ya están bien regularizadas, Dropout puede no ser necesario. Es importante experimentar y evaluar si Dropout proporciona un beneficio tangible en el rendimiento del modelo.\n"
   ]
  }
 ],
 "metadata": {
  "kernelspec": {
   "display_name": "bootcamp_coding_dojo",
   "language": "python",
   "name": "python3"
  },
  "language_info": {
   "codemirror_mode": {
    "name": "ipython",
    "version": 3
   },
   "file_extension": ".py",
   "mimetype": "text/x-python",
   "name": "python",
   "nbconvert_exporter": "python",
   "pygments_lexer": "ipython3",
   "version": "3.12.7"
  }
 },
 "nbformat": 4,
 "nbformat_minor": 2
}
