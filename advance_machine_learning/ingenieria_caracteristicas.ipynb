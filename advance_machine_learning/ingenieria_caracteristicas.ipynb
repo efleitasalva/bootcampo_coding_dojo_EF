{
 "cells": [
  {
   "cell_type": "code",
   "execution_count": 1,
   "metadata": {},
   "outputs": [
    {
     "name": "stdout",
     "output_type": "stream",
     "text": [
      "Error Cuadrático Medio: 12.3306\n"
     ]
    }
   ],
   "source": [
    "# Importar librerías necesarias\n",
    "import numpy as np\n",
    "import pandas as pd\n",
    "from sklearn.model_selection import train_test_split\n",
    "from sklearn.preprocessing import StandardScaler, PolynomialFeatures\n",
    "from sklearn.linear_model import LinearRegression\n",
    "from sklearn.metrics import mean_squared_error\n",
    "\n",
    "# Cargar datos desde un archivo local\n",
    "url = \"https://raw.githubusercontent.com/selva86/datasets/master/BostonHousing.csv\"\n",
    "boston = pd.read_csv(url)\n",
    "\n",
    "# Separar variables y objetivo\n",
    "X = boston.drop(columns=[\"medv\"])  # medv es la variable objetivo (precio de la vivienda)\n",
    "y = boston[\"medv\"]\n",
    "\n",
    "# Normalización y estandarización\n",
    "scaler = StandardScaler()\n",
    "X_scaled = scaler.fit_transform(X)\n",
    "\n",
    "# Creación de características polinómicas\n",
    "poly = PolynomialFeatures(degree=2, include_bias=False)\n",
    "X_poly = poly.fit_transform(X_scaled)\n",
    "\n",
    "# Selección de características\n",
    "model = LinearRegression()\n",
    "model.fit(X_poly, y)\n",
    "importance = np.abs(model.coef_)\n",
    "\n",
    "# Filtrar características menos importantes\n",
    "threshold = np.percentile(importance, 50)\n",
    "X_selected = X_poly[:, importance > threshold]\n",
    "\n",
    "\n",
    "# Dividir los datos en entrenamiento y prueba\n",
    "X_train, X_test, y_train, y_test = train_test_split(X_selected, y, test_size=0.3, random_state=42)\n",
    "\n",
    "# Entrenar el modelo\n",
    "model.fit(X_train, y_train)\n",
    "y_pred = model.predict(X_test)\n",
    "mse = mean_squared_error(y_test, y_pred)\n",
    "\n",
    "print(f\"Error Cuadrático Medio: {mse:.4f}\")"
   ]
  },
  {
   "cell_type": "code",
   "execution_count": 2,
   "metadata": {},
   "outputs": [
    {
     "name": "stdout",
     "output_type": "stream",
     "text": [
      "(506, 13)\n",
      "(506, 52)\n"
     ]
    }
   ],
   "source": [
    "print(X.shape)\n",
    "print(X_selected.shape)"
   ]
  },
  {
   "cell_type": "code",
   "execution_count": 3,
   "metadata": {},
   "outputs": [
    {
     "name": "stdout",
     "output_type": "stream",
     "text": [
      "   Ventas  Costos  Descuentos  Margen  Ratio_Descuento  Margen_Ajustado\n",
      "0     100      50           5      50         0.050000        47.500000\n",
      "1     150      70          10      80         0.066667        74.666667\n",
      "2     200      90          15     110         0.075000       101.750000\n",
      "3     250     120          20     130         0.080000       119.600000\n",
      "4     300     140          25     160         0.083333       146.666667\n"
     ]
    }
   ],
   "source": [
    "# Importar librerías necesarias\n",
    "import numpy as np\n",
    "import pandas as pd\n",
    "\n",
    "# Crear un DataFrame de ejemplo\n",
    "data = {\n",
    "    'Ventas': [100, 150, 200, 250, 300],\n",
    "    'Costos': [50, 70, 90, 120, 140],\n",
    "    'Descuentos': [5, 10, 15, 20, 25]\n",
    "}\n",
    "\n",
    "df = pd.DataFrame(data)\n",
    "# Crear nuevas características usando operadores sobrecargados\n",
    "df['Margen'] = df['Ventas'] - df['Costos']\n",
    "df['Ratio_Descuento'] = df['Descuentos'] / df['Ventas']\n",
    "df['Margen_Ajustado'] = df['Margen'] * (1 - df['Ratio_Descuento'])\n",
    "\n",
    "print(df)"
   ]
  },
  {
   "cell_type": "code",
   "execution_count": 4,
   "metadata": {},
   "outputs": [
    {
     "name": "stdout",
     "output_type": "stream",
     "text": [
      "              Texto  Longitud  Num_Palabras  Contiene_Python\n",
      "0        Hola mundo        10             2            False\n",
      "1  Machine Learning        16             2            False\n",
      "2  Python es genial        16             3             True\n",
      "3      Data Science        12             2            False\n"
     ]
    }
   ],
   "source": [
    "import re\n",
    "\n",
    "# Crear un DataFrame de ejemplo\n",
    "data = {'Texto': ['Hola mundo', 'Machine Learning', 'Python es genial', 'Data Science']}\n",
    "df = pd.DataFrame(data)\n",
    "\n",
    "# Calcular la longitud de cada cadena\n",
    "df['Longitud'] = df['Texto'].apply(len)\n",
    "\n",
    "# Contar la cantidad de palabras en cada cadena\n",
    "df['Num_Palabras'] = df['Texto'].apply(lambda x: len(x.split()))\n",
    "\n",
    "# Detectar la presencia de una palabra específica usando expresiones regulares\n",
    "df['Contiene_Python'] = df['Texto'].apply(lambda x: bool(re.search(r'Python', x)))\n",
    "\n",
    "print(df)"
   ]
  },
  {
   "cell_type": "code",
   "execution_count": 5,
   "metadata": {},
   "outputs": [
    {
     "name": "stdout",
     "output_type": "stream",
     "text": [
      "      Fechas  Día  Mes   Año  Es_Fin_de_Semana\n",
      "0 2023-01-01    1    1  2023              True\n",
      "1 2023-06-15   15    6  2023             False\n",
      "2 2024-12-31   31   12  2024             False\n"
     ]
    }
   ],
   "source": [
    "import pandas as pd\n",
    "\n",
    "# Crear un DataFrame de ejemplo con fechas\n",
    "data = {'Fechas': pd.to_datetime(['2023-01-01', '2023-06-15', '2024-12-31'])}\n",
    "df = pd.DataFrame(data)\n",
    "\n",
    "# Extraer el día, mes y año\n",
    "df['Día'] = df['Fechas'].dt.day\n",
    "df['Mes'] = df['Fechas'].dt.month\n",
    "df['Año'] = df['Fechas'].dt.year\n",
    "\n",
    "# Calcular si la fecha es un fin de semana\n",
    "df['Es_Fin_de_Semana'] = df['Fechas'].dt.dayofweek >= 5\n",
    "\n",
    "print(df)"
   ]
  },
  {
   "cell_type": "code",
   "execution_count": 6,
   "metadata": {},
   "outputs": [
    {
     "name": "stdout",
     "output_type": "stream",
     "text": [
      "   Valores  Valores_Escalados\n",
      "0       10               0.00\n",
      "1       20               0.25\n",
      "2       30               0.50\n",
      "3       40               0.75\n",
      "4       50               1.00\n"
     ]
    }
   ],
   "source": [
    "# Crear un DataFrame de ejemplo\n",
    "data = {'Valores': [10, 20, 30, 40, 50]}\n",
    "df = pd.DataFrame(data)\n",
    "\n",
    "# Definir una función personalizada para escalar datos\n",
    "def escalar_datos(x, min_val, max_val):\n",
    "    return (x - min_val) / (max_val - min_val)\n",
    "\n",
    "# Aplicar la función personalizada\n",
    "df['Valores_Escalados'] = df['Valores'].apply(escalar_datos, args=(df['Valores'].min(), df['Valores'].max()))\n",
    "\n",
    "print(df)"
   ]
  }
 ],
 "metadata": {
  "kernelspec": {
   "display_name": "bootcamp_coding_dojo",
   "language": "python",
   "name": "python3"
  },
  "language_info": {
   "codemirror_mode": {
    "name": "ipython",
    "version": 3
   },
   "file_extension": ".py",
   "mimetype": "text/x-python",
   "name": "python",
   "nbconvert_exporter": "python",
   "pygments_lexer": "ipython3",
   "version": "3.12.7"
  }
 },
 "nbformat": 4,
 "nbformat_minor": 2
}
