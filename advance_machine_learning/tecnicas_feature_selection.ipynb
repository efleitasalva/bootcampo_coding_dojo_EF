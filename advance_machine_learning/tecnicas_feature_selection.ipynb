{
 "cells": [
  {
   "cell_type": "code",
   "execution_count": 1,
   "metadata": {},
   "outputs": [
    {
     "name": "stdout",
     "output_type": "stream",
     "text": [
      "Características seleccionadas por chi-cuadrado: Index(['petal length (cm)', 'petal width (cm)'], dtype='object')\n",
      "Características seleccionadas por RFE: Index(['petal length (cm)', 'petal width (cm)'], dtype='object')\n",
      "Características seleccionadas por Random Forest: Index(['petal length (cm)'], dtype='object')\n"
     ]
    }
   ],
   "source": [
    "# Importar librerías necesarias\n",
    "import numpy as np\n",
    "import pandas as pd\n",
    "from sklearn.datasets import load_iris\n",
    "from sklearn.feature_selection import SelectKBest, chi2, RFE\n",
    "from sklearn.linear_model import LogisticRegression\n",
    "from sklearn.ensemble import RandomForestClassifier\n",
    "\n",
    "# Cargar el conjunto de datos de iris\n",
    "data = load_iris()\n",
    "X = pd.DataFrame(data.data, columns=data.feature_names)\n",
    "y = data.target\n",
    "\n",
    "# Selección de características utilizando el método de chi-cuadrado\n",
    "chi2_selector = SelectKBest(chi2, k=2)\n",
    "X_kbest = chi2_selector.fit_transform(X, y)\n",
    "print(f\"Características seleccionadas por chi-cuadrado: {X.columns[chi2_selector.get_support(indices=True)]}\")\n",
    "\n",
    "# Selección de características utilizando Recursive Feature Elimination (RFE)\n",
    "model = LogisticRegression(max_iter=200)\n",
    "rfe_selector = RFE(model, n_features_to_select=2, step=1)\n",
    "rfe_selector = rfe_selector.fit(X, y)\n",
    "print(f\"Características seleccionadas por RFE: {X.columns[rfe_selector.get_support(indices=True)]}\")\n",
    "\n",
    "# Selección de características utilizando Random Forest\n",
    "forest = RandomForestClassifier(random_state=42)\n",
    "forest.fit(X, y)\n",
    "importances = forest.feature_importances_\n",
    "important_features = X.columns[importances > np.percentile(importances, 75)]\n",
    "print(f\"Características seleccionadas por Random Forest: {important_features}\")"
   ]
  }
 ],
 "metadata": {
  "kernelspec": {
   "display_name": "bootcamp_coding_dojo",
   "language": "python",
   "name": "python3"
  },
  "language_info": {
   "codemirror_mode": {
    "name": "ipython",
    "version": 3
   },
   "file_extension": ".py",
   "mimetype": "text/x-python",
   "name": "python",
   "nbconvert_exporter": "python",
   "pygments_lexer": "ipython3",
   "version": "3.12.7"
  }
 },
 "nbformat": 4,
 "nbformat_minor": 2
}
