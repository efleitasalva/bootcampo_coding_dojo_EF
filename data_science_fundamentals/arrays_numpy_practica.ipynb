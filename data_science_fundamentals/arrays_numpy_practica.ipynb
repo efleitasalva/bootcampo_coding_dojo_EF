{
 "cells": [
  {
   "cell_type": "code",
   "execution_count": 2,
   "metadata": {},
   "outputs": [
    {
     "name": "stdout",
     "output_type": "stream",
     "text": [
      "(2, 3)\n",
      "6\n",
      "2\n"
     ]
    }
   ],
   "source": [
    "import numpy as np\n",
    "array = np.array([[1, 2, 3], [4, 5, 6]])\n",
    "print(array.shape)#Devuelve una tupla con las dimensiones del array.\n",
    "print(array.size)#Devuelve el número total de elementos en el array.\n",
    "print(array.ndim)#Devuelve el número de dimensiones del array."
   ]
  },
  {
   "cell_type": "markdown",
   "metadata": {},
   "source": []
  },
  {
   "cell_type": "code",
   "execution_count": null,
   "metadata": {},
   "outputs": [],
   "source": []
  },
  {
   "cell_type": "code",
   "execution_count": 3,
   "metadata": {},
   "outputs": [
    {
     "name": "stdout",
     "output_type": "stream",
     "text": [
      "[[1 2]\n",
      " [3 4]\n",
      " [5 6]]\n",
      "[1 2 3 4 5 6]\n"
     ]
    }
   ],
   "source": [
    "array_reshape = array.reshape((3, 2))#Cambia la forma del array sin cambiar sus datos.\n",
    "print(array_reshape)\n",
    "array_flatten = array.flatten()#Convierte un array multidimensional en un array unidimensional.\n",
    "print(array_flatten)\n"
   ]
  },
  {
   "cell_type": "code",
   "execution_count": 2,
   "metadata": {},
   "outputs": [
    {
     "name": "stdout",
     "output_type": "stream",
     "text": [
      "6\n",
      "[[2 3]\n",
      " [5 6]]\n"
     ]
    }
   ],
   "source": [
    "import numpy as np\n",
    "array = np.array([[1, 2, 3], [4, 5, 6], [7, 8, 9]])\n",
    "print(array[1, 2])  # Elemento en la fila 1, columna 2\n",
    "print(array[0:2, 1:3])  # Subarray desde fila 0 a 1 y columna 1 a 2\n",
    "#array[fila_inicio:fila_final, columna_inicio:columna_final]\n",
    "\n"
   ]
  },
  {
   "cell_type": "code",
   "execution_count": 6,
   "metadata": {},
   "outputs": [
    {
     "name": "stdout",
     "output_type": "stream",
     "text": [
      "15\n",
      "120\n",
      "3.0\n",
      "3.0\n",
      "1.4142135623730951\n",
      "2.0\n",
      "15\n"
     ]
    }
   ],
   "source": [
    "array = np.array([1, 2, 3, 4, 5])\n",
    "print(np.sum(array))  # Suma de todos los elementos\n",
    "print(np.prod(array))  # Producto de todos los elementos\n",
    "print(np.mean(array))  # Media (promedio)\n",
    "print(np.median(array))  # Mediana\n",
    "print(np.std(array))  # Desviación estándar\n",
    "print(np.var(array))  # Varianza\n",
    "array = np.array([[1, 2, 3], [4, 5, 6], [7, 8, 9]])\n",
    "columna_2 = array[:, 1]  # Selecciona la segunda columna\n",
    "print(np.sum(columna_2))  # Suma los valores de la segunda columna"
   ]
  },
  {
   "cell_type": "code",
   "execution_count": 12,
   "metadata": {},
   "outputs": [
    {
     "name": "stdout",
     "output_type": "stream",
     "text": [
      "[[ 4  6]\n",
      " [ 8 10]] \n",
      " [[ 2  4]\n",
      " [10 12]] \n",
      " [[ 1  5]\n",
      " [ 9 13]]\n"
     ]
    }
   ],
   "source": [
    "x= np.array([\n",
    "    [[0,1],\n",
    "    [2,3]],\n",
    "\n",
    "    [[4,5],\n",
    "    [6,7]]\n",
    "])\n",
    "result_a0= np.sum(x,axis=0)##elementos de la misma posicion pero diferente arrays ej: [0+4 1+5][2+6 3+7]\n",
    "result_a1= np.sum(x,axis=1)##diferentes filas en cada array ej: [0+2 1+3][4+6 5+7]\n",
    "result_a2= np.sum(x,axis=2)##diferentes columnas en cada array ej: [0+1 2+3][4+5 6+7]\n",
    "print(f\"{result_a0} \\n {result_a1} \\n {result_a2}\")"
   ]
  }
 ],
 "metadata": {
  "kernelspec": {
   "display_name": "bootcamp_coding_dojo",
   "language": "python",
   "name": "python3"
  },
  "language_info": {
   "codemirror_mode": {
    "name": "ipython",
    "version": 3
   },
   "file_extension": ".py",
   "mimetype": "text/x-python",
   "name": "python",
   "nbconvert_exporter": "python",
   "pygments_lexer": "ipython3",
   "version": "3.12.7"
  }
 },
 "nbformat": 4,
 "nbformat_minor": 2
}
