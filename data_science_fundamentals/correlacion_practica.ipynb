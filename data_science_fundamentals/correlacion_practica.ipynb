{
 "cells": [
  {
   "cell_type": "markdown",
   "metadata": {},
   "source": [
    "Aplicación Práctica\n",
    "\n",
    "Para consolidar tus conocimientos, realiza la siguiente actividad práctica:\n",
    "\n",
    "\n",
    "* Cargar y Limpiar el Dataset: Utiliza un dataset de Kaggle relacionado con ventas, salud o cualquier otro tema de interés.\n",
    "* Calcular las Correlaciones: Calcula las correlaciones de Pearson, Spearman y Kendall entre las variables del dataset.\n",
    "* Crear Mapas de Calor: Crea mapas de calor para cada tipo de correlación y analiza las relaciones entre las variables.\n",
    "* Interpretar los Resultados: Escribe un breve informe sobre las correlaciones encontradas y cómo pueden influir en el análisis de datos y la toma de decisiones.\n"
   ]
  },
  {
   "cell_type": "code",
   "execution_count": 24,
   "metadata": {},
   "outputs": [],
   "source": [
    "import pandas as pd\n",
    "import seaborn as sns\n",
    "import matplotlib.pyplot as plt"
   ]
  },
  {
   "cell_type": "code",
   "execution_count": 25,
   "metadata": {},
   "outputs": [
    {
     "name": "stdout",
     "output_type": "stream",
     "text": [
      "  Country name            Regional indicator  Ladder score  upperwhisker  \\\n",
      "0      Finland                Western Europe         7.741         7.815   \n",
      "1      Denmark                Western Europe         7.583         7.665   \n",
      "2      Iceland                Western Europe         7.525         7.618   \n",
      "3       Sweden                Western Europe         7.344         7.422   \n",
      "4       Israel  Middle East and North Africa         7.341         7.405   \n",
      "\n",
      "   lowerwhisker  Log GDP per capita  Social support  Healthy life expectancy  \\\n",
      "0         7.667               1.844           1.572                    0.695   \n",
      "1         7.500               1.908           1.520                    0.699   \n",
      "2         7.433               1.881           1.617                    0.718   \n",
      "3         7.267               1.878           1.501                    0.724   \n",
      "4         7.277               1.803           1.513                    0.740   \n",
      "\n",
      "   Freedom to make life choices  Generosity  Perceptions of corruption  \\\n",
      "0                         0.859       0.142                      0.546   \n",
      "1                         0.823       0.204                      0.548   \n",
      "2                         0.819       0.258                      0.182   \n",
      "3                         0.838       0.221                      0.524   \n",
      "4                         0.641       0.153                      0.193   \n",
      "\n",
      "   Dystopia + residual  \n",
      "0                2.082  \n",
      "1                1.881  \n",
      "2                2.050  \n",
      "3                1.658  \n",
      "4                2.298  \n"
     ]
    }
   ],
   "source": [
    "def cargar_datos(ruta_archivo):\n",
    "    # Carga los datos del archivo CSV\n",
    "    datos = pd.read_csv(ruta_archivo, delimiter=',')\n",
    "    return datos\n",
    "##Se realiza la carga con Pandas ya que numpy no muestra los valores categoricos\n",
    "if __name__ == \"__main__\":\n",
    "    ruta_archivo = '../data_science_fundamentals/data/World-happiness-report-2024.csv'\n",
    "    \n",
    "    df = cargar_datos(ruta_archivo)\n",
    "\n",
    "    print(df.head())"
   ]
  },
  {
   "cell_type": "code",
   "execution_count": 26,
   "metadata": {},
   "outputs": [
    {
     "name": "stdout",
     "output_type": "stream",
     "text": [
      "nInformación del DataFrame:\n",
      "<class 'pandas.core.frame.DataFrame'>\n",
      "RangeIndex: 143 entries, 0 to 142\n",
      "Data columns (total 12 columns):\n",
      " #   Column                        Non-Null Count  Dtype  \n",
      "---  ------                        --------------  -----  \n",
      " 0   Country name                  143 non-null    object \n",
      " 1   Regional indicator            143 non-null    object \n",
      " 2   Ladder score                  143 non-null    float64\n",
      " 3   upperwhisker                  143 non-null    float64\n",
      " 4   lowerwhisker                  143 non-null    float64\n",
      " 5   Log GDP per capita            140 non-null    float64\n",
      " 6   Social support                140 non-null    float64\n",
      " 7   Healthy life expectancy       140 non-null    float64\n",
      " 8   Freedom to make life choices  140 non-null    float64\n",
      " 9   Generosity                    140 non-null    float64\n",
      " 10  Perceptions of corruption     140 non-null    float64\n",
      " 11  Dystopia + residual           140 non-null    float64\n",
      "dtypes: float64(10), object(2)\n",
      "memory usage: 13.5+ KB\n",
      "None\n",
      "nEstadísticas descriptivas del DataFrame:\n",
      "       Ladder score  upperwhisker  lowerwhisker  Log GDP per capita  \\\n",
      "count    143.000000    143.000000    143.000000          140.000000   \n",
      "mean       5.527580      5.641175      5.413972            1.378807   \n",
      "std        1.170717      1.155008      1.187133            0.425098   \n",
      "min        1.721000      1.775000      1.667000            0.000000   \n",
      "25%        4.726000      4.845500      4.606000            1.077750   \n",
      "50%        5.785000      5.895000      5.674000            1.431500   \n",
      "75%        6.416000      6.507500      6.319000            1.741500   \n",
      "max        7.741000      7.815000      7.667000            2.141000   \n",
      "\n",
      "       Social support  Healthy life expectancy  Freedom to make life choices  \\\n",
      "count      140.000000               140.000000                    140.000000   \n",
      "mean         1.134329                 0.520886                      0.620621   \n",
      "std          0.333317                 0.164923                      0.162492   \n",
      "min          0.000000                 0.000000                      0.000000   \n",
      "25%          0.921750                 0.398000                      0.527500   \n",
      "50%          1.237500                 0.549500                      0.641000   \n",
      "75%          1.383250                 0.648500                      0.736000   \n",
      "max          1.617000                 0.857000                      0.863000   \n",
      "\n",
      "       Generosity  Perceptions of corruption  Dystopia + residual  \n",
      "count  140.000000                 140.000000           140.000000  \n",
      "mean     0.146271                   0.154121             1.575914  \n",
      "std      0.073441                   0.126238             0.537459  \n",
      "min      0.000000                   0.000000            -0.073000  \n",
      "25%      0.091000                   0.068750             1.308250  \n",
      "50%      0.136500                   0.120500             1.644500  \n",
      "75%      0.192500                   0.193750             1.881750  \n",
      "max      0.401000                   0.575000             2.998000  \n"
     ]
    }
   ],
   "source": [
    "##Imprime informacion del dataframe\n",
    "print(\"nInformación del DataFrame:\")\n",
    "print(df.info())\n",
    "## Imprime estadistica descriptiva del DF\n",
    "print(\"nEstadísticas descriptivas del DataFrame:\")\n",
    "print(df.describe())"
   ]
  },
  {
   "cell_type": "code",
   "execution_count": 27,
   "metadata": {},
   "outputs": [
    {
     "name": "stdout",
     "output_type": "stream",
     "text": [
      "elementos duplicados:  0\n",
      "                              datos sin NAs en q  Na en q  Na en %\n",
      "Country name                                 143        0      0.0\n",
      "Regional indicator                           143        0      0.0\n",
      "Ladder score                                 143        0      0.0\n",
      "upperwhisker                                 143        0      0.0\n",
      "lowerwhisker                                 143        0      0.0\n",
      "Log GDP per capita                           140        3      2.1\n",
      "Social support                               140        3      2.1\n",
      "Healthy life expectancy                      140        3      2.1\n",
      "Freedom to make life choices                 140        3      2.1\n",
      "Generosity                                   140        3      2.1\n",
      "Perceptions of corruption                    140        3      2.1\n",
      "Dystopia + residual                          140        3      2.1\n",
      "           Country name                  Regional indicator  Ladder score  \\\n",
      "61              Bahrain        Middle East and North Africa         5.959   \n",
      "87           Tajikistan  Commonwealth of Independent States         5.281   \n",
      "102  State of Palestine        Middle East and North Africa         4.879   \n",
      "\n",
      "     upperwhisker  lowerwhisker  Log GDP per capita  Social support  \\\n",
      "61          6.153         5.766                 NaN             NaN   \n",
      "87          5.361         5.201                 NaN             NaN   \n",
      "102         5.006         4.753                 NaN             NaN   \n",
      "\n",
      "     Healthy life expectancy  Freedom to make life choices  Generosity  \\\n",
      "61                       NaN                           NaN         NaN   \n",
      "87                       NaN                           NaN         NaN   \n",
      "102                      NaN                           NaN         NaN   \n",
      "\n",
      "     Perceptions of corruption  Dystopia + residual  \n",
      "61                         NaN                  NaN  \n",
      "87                         NaN                  NaN  \n",
      "102                        NaN                  NaN  \n"
     ]
    }
   ],
   "source": [
    "##Limpieza de datos\n",
    "##Verificar datos duplicados\n",
    "#Deteccion de valores duplicados\n",
    "print(\"elementos duplicados: \", df.duplicated().sum())\n",
    "## No se encuentran datos nulos\n",
    "\n",
    "def visualizacion_valores_nulos(df):\n",
    "    ##Detallado de valores nulos por columna\n",
    "    # Esto permite determinar cuántos valores en cada columna tienen datos cargados\n",
    "    qsna = df.shape[0] - df.isnull().sum(axis=0)\n",
    "    # Calcula la cantidad de valores nulos en cada columna del DataFrame\n",
    "    qna = df.isnull().sum(axis=0)\n",
    "    # Calcula el porcentaje de valores nulos en cada columna y redondea a 2 decimales\n",
    "    ppna = round(100 * (df.isnull().sum(axis=0) / df.shape[0]), 2)\n",
    "    # Crea un diccionario auxiliar con la cantidad de datos sin nulos, cantidad de nulos y porcentaje de nulos\n",
    "    aux = {'datos sin NAs en q': qsna, 'Na en q': qna, 'Na en %': ppna}\n",
    "    # Convierte el diccionario en un DataFrame\n",
    "    na = pd.DataFrame(data=aux)\n",
    "    # Ordena el DataFrame por el porcentaje de valores nulos en orden descendente\n",
    "    na.sort_values(by='Na en %', ascending=False)\n",
    "\n",
    "    print(na)\n",
    "\n",
    "visualizacion_valores_nulos(df)\n",
    "# Filas que contienen al menos un valor null en alguna columna\n",
    "filas_con_null = df[df.isnull().any(axis=1)]\n",
    "\n",
    "# Mostrar las filas con valores nulos\n",
    "print(filas_con_null)\n"
   ]
  },
  {
   "cell_type": "code",
   "execution_count": 31,
   "metadata": {},
   "outputs": [
    {
     "name": "stdout",
     "output_type": "stream",
     "text": [
      "                              datos sin NAs en q  Na en q  Na en %\n",
      "Country name                                 143        0      0.0\n",
      "Regional indicator                           143        0      0.0\n",
      "Ladder score                                 143        0      0.0\n",
      "upperwhisker                                 143        0      0.0\n",
      "lowerwhisker                                 143        0      0.0\n",
      "Log GDP per capita                           140        3      2.1\n",
      "Social support                               140        3      2.1\n",
      "Healthy life expectancy                      140        3      2.1\n",
      "Freedom to make life choices                 140        3      2.1\n",
      "Generosity                                   140        3      2.1\n",
      "Perceptions of corruption                    140        3      2.1\n",
      "Dystopia + residual                          140        3      2.1\n"
     ]
    }
   ],
   "source": [
    "##Se crea metodo para asignar valores por tipo de datos en todos los casos.\n",
    "def manejar_nulos(datos):\n",
    "    for column in datos.columns:\n",
    "        if datos[column].dtype == 'object':\n",
    "            datos[column] = datos[column].fillna('Desconocido')\n",
    "        elif datos[column].dtype in ['int64', 'float']:\n",
    "            datos[column].fillna(datos[column].interpolate())\n",
    "\n",
    "manejar_nulos(df)\n",
    "\n",
    "visualizacion_valores_nulos(df)\n"
   ]
  },
  {
   "cell_type": "code",
   "execution_count": 6,
   "metadata": {},
   "outputs": [
    {
     "ename": "ValueError",
     "evalue": "could not convert string to float: 'Finland'",
     "output_type": "error",
     "traceback": [
      "\u001b[1;31m---------------------------------------------------------------------------\u001b[0m",
      "\u001b[1;31mValueError\u001b[0m                                Traceback (most recent call last)",
      "Cell \u001b[1;32mIn[6], line 16\u001b[0m\n\u001b[0;32m     13\u001b[0m     df \u001b[38;5;241m=\u001b[39m cargar_datos(ruta_archivo) \n\u001b[0;32m     15\u001b[0m \u001b[38;5;66;03m# Calcular las correlaciones\u001b[39;00m\n\u001b[1;32m---> 16\u001b[0m correlation_matrix \u001b[38;5;241m=\u001b[39m \u001b[43mdf\u001b[49m\u001b[38;5;241;43m.\u001b[39;49m\u001b[43mcorr\u001b[49m\u001b[43m(\u001b[49m\u001b[43mmethod\u001b[49m\u001b[38;5;241;43m=\u001b[39;49m\u001b[38;5;124;43m'\u001b[39;49m\u001b[38;5;124;43mpearson\u001b[39;49m\u001b[38;5;124;43m'\u001b[39;49m\u001b[43m)\u001b[49m\n\u001b[0;32m     17\u001b[0m spearman_corr \u001b[38;5;241m=\u001b[39m df\u001b[38;5;241m.\u001b[39mcorr(method\u001b[38;5;241m=\u001b[39m\u001b[38;5;124m'\u001b[39m\u001b[38;5;124mspearman\u001b[39m\u001b[38;5;124m'\u001b[39m)\n\u001b[0;32m     18\u001b[0m kendall_corr \u001b[38;5;241m=\u001b[39m df\u001b[38;5;241m.\u001b[39mcorr(method\u001b[38;5;241m=\u001b[39m\u001b[38;5;124m'\u001b[39m\u001b[38;5;124mkendall\u001b[39m\u001b[38;5;124m'\u001b[39m)\n",
      "File \u001b[1;32mc:\\Users\\ENRIF\\anaconda3\\envs\\bootcamp_coding_dojo\\Lib\\site-packages\\pandas\\core\\frame.py:11049\u001b[0m, in \u001b[0;36mDataFrame.corr\u001b[1;34m(self, method, min_periods, numeric_only)\u001b[0m\n\u001b[0;32m  11047\u001b[0m cols \u001b[38;5;241m=\u001b[39m data\u001b[38;5;241m.\u001b[39mcolumns\n\u001b[0;32m  11048\u001b[0m idx \u001b[38;5;241m=\u001b[39m cols\u001b[38;5;241m.\u001b[39mcopy()\n\u001b[1;32m> 11049\u001b[0m mat \u001b[38;5;241m=\u001b[39m \u001b[43mdata\u001b[49m\u001b[38;5;241;43m.\u001b[39;49m\u001b[43mto_numpy\u001b[49m\u001b[43m(\u001b[49m\u001b[43mdtype\u001b[49m\u001b[38;5;241;43m=\u001b[39;49m\u001b[38;5;28;43mfloat\u001b[39;49m\u001b[43m,\u001b[49m\u001b[43m \u001b[49m\u001b[43mna_value\u001b[49m\u001b[38;5;241;43m=\u001b[39;49m\u001b[43mnp\u001b[49m\u001b[38;5;241;43m.\u001b[39;49m\u001b[43mnan\u001b[49m\u001b[43m,\u001b[49m\u001b[43m \u001b[49m\u001b[43mcopy\u001b[49m\u001b[38;5;241;43m=\u001b[39;49m\u001b[38;5;28;43;01mFalse\u001b[39;49;00m\u001b[43m)\u001b[49m\n\u001b[0;32m  11051\u001b[0m \u001b[38;5;28;01mif\u001b[39;00m method \u001b[38;5;241m==\u001b[39m \u001b[38;5;124m\"\u001b[39m\u001b[38;5;124mpearson\u001b[39m\u001b[38;5;124m\"\u001b[39m:\n\u001b[0;32m  11052\u001b[0m     correl \u001b[38;5;241m=\u001b[39m libalgos\u001b[38;5;241m.\u001b[39mnancorr(mat, minp\u001b[38;5;241m=\u001b[39mmin_periods)\n",
      "File \u001b[1;32mc:\\Users\\ENRIF\\anaconda3\\envs\\bootcamp_coding_dojo\\Lib\\site-packages\\pandas\\core\\frame.py:1993\u001b[0m, in \u001b[0;36mDataFrame.to_numpy\u001b[1;34m(self, dtype, copy, na_value)\u001b[0m\n\u001b[0;32m   1991\u001b[0m \u001b[38;5;28;01mif\u001b[39;00m dtype \u001b[38;5;129;01mis\u001b[39;00m \u001b[38;5;129;01mnot\u001b[39;00m \u001b[38;5;28;01mNone\u001b[39;00m:\n\u001b[0;32m   1992\u001b[0m     dtype \u001b[38;5;241m=\u001b[39m np\u001b[38;5;241m.\u001b[39mdtype(dtype)\n\u001b[1;32m-> 1993\u001b[0m result \u001b[38;5;241m=\u001b[39m \u001b[38;5;28;43mself\u001b[39;49m\u001b[38;5;241;43m.\u001b[39;49m\u001b[43m_mgr\u001b[49m\u001b[38;5;241;43m.\u001b[39;49m\u001b[43mas_array\u001b[49m\u001b[43m(\u001b[49m\u001b[43mdtype\u001b[49m\u001b[38;5;241;43m=\u001b[39;49m\u001b[43mdtype\u001b[49m\u001b[43m,\u001b[49m\u001b[43m \u001b[49m\u001b[43mcopy\u001b[49m\u001b[38;5;241;43m=\u001b[39;49m\u001b[43mcopy\u001b[49m\u001b[43m,\u001b[49m\u001b[43m \u001b[49m\u001b[43mna_value\u001b[49m\u001b[38;5;241;43m=\u001b[39;49m\u001b[43mna_value\u001b[49m\u001b[43m)\u001b[49m\n\u001b[0;32m   1994\u001b[0m \u001b[38;5;28;01mif\u001b[39;00m result\u001b[38;5;241m.\u001b[39mdtype \u001b[38;5;129;01mis\u001b[39;00m \u001b[38;5;129;01mnot\u001b[39;00m dtype:\n\u001b[0;32m   1995\u001b[0m     result \u001b[38;5;241m=\u001b[39m np\u001b[38;5;241m.\u001b[39masarray(result, dtype\u001b[38;5;241m=\u001b[39mdtype)\n",
      "File \u001b[1;32mc:\\Users\\ENRIF\\anaconda3\\envs\\bootcamp_coding_dojo\\Lib\\site-packages\\pandas\\core\\internals\\managers.py:1694\u001b[0m, in \u001b[0;36mBlockManager.as_array\u001b[1;34m(self, dtype, copy, na_value)\u001b[0m\n\u001b[0;32m   1692\u001b[0m         arr\u001b[38;5;241m.\u001b[39mflags\u001b[38;5;241m.\u001b[39mwriteable \u001b[38;5;241m=\u001b[39m \u001b[38;5;28;01mFalse\u001b[39;00m\n\u001b[0;32m   1693\u001b[0m \u001b[38;5;28;01melse\u001b[39;00m:\n\u001b[1;32m-> 1694\u001b[0m     arr \u001b[38;5;241m=\u001b[39m \u001b[38;5;28;43mself\u001b[39;49m\u001b[38;5;241;43m.\u001b[39;49m\u001b[43m_interleave\u001b[49m\u001b[43m(\u001b[49m\u001b[43mdtype\u001b[49m\u001b[38;5;241;43m=\u001b[39;49m\u001b[43mdtype\u001b[49m\u001b[43m,\u001b[49m\u001b[43m \u001b[49m\u001b[43mna_value\u001b[49m\u001b[38;5;241;43m=\u001b[39;49m\u001b[43mna_value\u001b[49m\u001b[43m)\u001b[49m\n\u001b[0;32m   1695\u001b[0m     \u001b[38;5;66;03m# The underlying data was copied within _interleave, so no need\u001b[39;00m\n\u001b[0;32m   1696\u001b[0m     \u001b[38;5;66;03m# to further copy if copy=True or setting na_value\u001b[39;00m\n\u001b[0;32m   1698\u001b[0m \u001b[38;5;28;01mif\u001b[39;00m na_value \u001b[38;5;129;01mis\u001b[39;00m lib\u001b[38;5;241m.\u001b[39mno_default:\n",
      "File \u001b[1;32mc:\\Users\\ENRIF\\anaconda3\\envs\\bootcamp_coding_dojo\\Lib\\site-packages\\pandas\\core\\internals\\managers.py:1753\u001b[0m, in \u001b[0;36mBlockManager._interleave\u001b[1;34m(self, dtype, na_value)\u001b[0m\n\u001b[0;32m   1751\u001b[0m     \u001b[38;5;28;01melse\u001b[39;00m:\n\u001b[0;32m   1752\u001b[0m         arr \u001b[38;5;241m=\u001b[39m blk\u001b[38;5;241m.\u001b[39mget_values(dtype)\n\u001b[1;32m-> 1753\u001b[0m     \u001b[43mresult\u001b[49m\u001b[43m[\u001b[49m\u001b[43mrl\u001b[49m\u001b[38;5;241;43m.\u001b[39;49m\u001b[43mindexer\u001b[49m\u001b[43m]\u001b[49m \u001b[38;5;241m=\u001b[39m arr\n\u001b[0;32m   1754\u001b[0m     itemmask[rl\u001b[38;5;241m.\u001b[39mindexer] \u001b[38;5;241m=\u001b[39m \u001b[38;5;241m1\u001b[39m\n\u001b[0;32m   1756\u001b[0m \u001b[38;5;28;01mif\u001b[39;00m \u001b[38;5;129;01mnot\u001b[39;00m itemmask\u001b[38;5;241m.\u001b[39mall():\n",
      "\u001b[1;31mValueError\u001b[0m: could not convert string to float: 'Finland'"
     ]
    }
   ],
   "source": [
    "\n",
    "\n",
    " \n",
    "\n",
    "# Calcular las correlaciones\n",
    "correlation_matrix = df.corr(method='pearson')\n",
    "spearman_corr = df.corr(method='spearman')\n",
    "kendall_corr = df.corr(method='kendall')\n",
    "\n",
    "# Crear mapas de calor\n",
    "plt.figure(figsize=(10, 8))\n",
    "sns.heatmap(correlation_matrix, annot=True, cmap='coolwarm', center=0)\n",
    "plt.title(\"Mapa de Calor de la Correlación de Pearson\")\n",
    "plt.show()\n",
    "\n",
    "plt.figure(figsize=(10, 8))\n",
    "sns.heatmap(spearman_corr, annot=True, cmap='viridis', center=0)\n",
    "plt.title(\"Mapa de Calor de la Correlación de Spearman\")\n",
    "plt.show()\n",
    "\n",
    "plt.figure(figsize=(10, 8))\n",
    "sns.heatmap(kendall_corr, annot=True, cmap='plasma', center=0)\n",
    "plt.title(\"Mapa de Calor de la Correlación de Kendall\")\n",
    "plt.show()"
   ]
  }
 ],
 "metadata": {
  "kernelspec": {
   "display_name": "bootcamp_coding_dojo",
   "language": "python",
   "name": "python3"
  },
  "language_info": {
   "codemirror_mode": {
    "name": "ipython",
    "version": 3
   },
   "file_extension": ".py",
   "mimetype": "text/x-python",
   "name": "python",
   "nbconvert_exporter": "python",
   "pygments_lexer": "ipython3",
   "version": "3.12.7"
  }
 },
 "nbformat": 4,
 "nbformat_minor": 2
}
