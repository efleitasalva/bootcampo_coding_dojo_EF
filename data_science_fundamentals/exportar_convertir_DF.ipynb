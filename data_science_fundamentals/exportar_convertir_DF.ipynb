{
 "cells": [
  {
   "cell_type": "code",
   "execution_count": null,
   "metadata": {},
   "outputs": [],
   "source": [
    "# Ejemplo de documentación en el código\n",
    "\"\"\"\n",
    "Este script convierte un DataFrame a diferentes formatos y guarda los resultados en archivos.\n",
    "- DataFrame original: df\n",
    "- Formatos: diccionario, NumPy array, CSV, JSON, Excel\n",
    "- Fecha: 01/10/2024\n",
    "- Autor: Enrique Fleitas\n",
    "\"\"\""
   ]
  },
  {
   "cell_type": "code",
   "execution_count": 5,
   "metadata": {},
   "outputs": [
    {
     "name": "stdout",
     "output_type": "stream",
     "text": [
      "   Producto  Ventas  Precio\n",
      "0  Manzanas      50    0.50\n",
      "1  Naranjas      30    0.75\n",
      "2   Bananas      20    0.30\n",
      "DataFrame convertido a diccionario:\n",
      "{'Producto': {0: 'Manzanas', 1: 'Naranjas', 2: 'Bananas'}, 'Ventas': {0: 50, 1: 30, 2: 20}, 'Precio': {0: 0.5, 1: 0.75, 2: 0.3}}\n"
     ]
    }
   ],
   "source": [
    "import pandas as pd\n",
    "\n",
    "# Crear un DataFrame de ejemplo\n",
    "data = {\n",
    "    'Producto': ['Manzanas', 'Naranjas', 'Bananas'],\n",
    "    'Ventas': [50, 30, 20],\n",
    "    'Precio': [0.5, 0.75, 0.3]\n",
    "}\n",
    "df = pd.DataFrame(data)\n",
    "print(df) \n",
    "# Convertir a un diccionario\n",
    "dict_data = df.to_dict()\n",
    "print(\"DataFrame convertido a diccionario:\")\n",
    "print(dict_data)"
   ]
  },
  {
   "cell_type": "code",
   "execution_count": 6,
   "metadata": {},
   "outputs": [
    {
     "name": "stdout",
     "output_type": "stream",
     "text": [
      "DataFrame convertido a array de NumPy:\n",
      "[['Manzanas' 50 0.5]\n",
      " ['Naranjas' 30 0.75]\n",
      " ['Bananas' 20 0.3]]\n"
     ]
    }
   ],
   "source": [
    "# Convertir a un array de NumPy\n",
    "array_data = df.to_numpy()\n",
    "print(\"DataFrame convertido a array de NumPy:\")\n",
    "print(array_data)"
   ]
  },
  {
   "cell_type": "code",
   "execution_count": 9,
   "metadata": {},
   "outputs": [
    {
     "name": "stdout",
     "output_type": "stream",
     "text": [
      "DataFrame guardado como archivo CSV\n"
     ]
    }
   ],
   "source": [
    "# Guardar el DataFrame en un archivo CSV\n",
    "df.to_csv('ventas.csv', index=False)\n",
    "print(\"DataFrame guardado como archivo CSV\")"
   ]
  },
  {
   "cell_type": "code",
   "execution_count": 11,
   "metadata": {},
   "outputs": [
    {
     "name": "stdout",
     "output_type": "stream",
     "text": [
      "DataFrame guardado como archivo Excel\n"
     ]
    }
   ],
   "source": [
    "# Guardar el DataFrame en un archivo Excel\n",
    "df.to_excel('ventas.xlsx', index=False)\n",
    "print(\"DataFrame guardado como archivo Excel\")"
   ]
  },
  {
   "cell_type": "code",
   "execution_count": 8,
   "metadata": {},
   "outputs": [
    {
     "name": "stdout",
     "output_type": "stream",
     "text": [
      "DataFrame convertido a JSON:\n",
      "{\"Producto\":{\"0\":\"Manzanas\",\"1\":\"Naranjas\",\"2\":\"Bananas\"},\"Ventas\":{\"0\":50,\"1\":30,\"2\":20},\"Precio\":{\"0\":0.5,\"1\":0.75,\"2\":0.3}}\n",
      "DataFrame guardado como archivo JSON\n"
     ]
    }
   ],
   "source": [
    "# Convertir a JSON\n",
    "json_data = df.to_json()\n",
    "print(\"DataFrame convertido a JSON:\")\n",
    "print(json_data)\n",
    "\n",
    "# Guardar el DataFrame en un archivo JSON\n",
    "df.to_json('ventas.json', orient='records', lines=True)\n",
    "print(\"DataFrame guardado como archivo JSON\")"
   ]
  },
  {
   "cell_type": "code",
   "execution_count": 12,
   "metadata": {},
   "outputs": [],
   "source": [
    "# Guardar un archivo CSV con codificación UTF-8\n",
    "df.to_csv('ventas_utf8.csv', index=False, encoding='utf-8')\n",
    "\n",
    "# Leer un archivo CSV con codificación UTF-8\n",
    "df_from_csv_utf8 = pd.read_csv('ventas_utf8.csv', encoding='utf-8')"
   ]
  },
  {
   "cell_type": "code",
   "execution_count": 13,
   "metadata": {},
   "outputs": [],
   "source": [
    "# Guardar un archivo CSV comprimido\n",
    "df.to_csv('ventas_comprimido.csv.gz', index=False, compression='gzip')\n",
    "\n",
    "# Leer un archivo CSV comprimido\n",
    "df_from_compressed_csv = pd.read_csv('ventas_comprimido.csv.gz', compression='gzip')"
   ]
  }
 ],
 "metadata": {
  "kernelspec": {
   "display_name": "bootcamp_coding_dojo",
   "language": "python",
   "name": "python3"
  },
  "language_info": {
   "codemirror_mode": {
    "name": "ipython",
    "version": 3
   },
   "file_extension": ".py",
   "mimetype": "text/x-python",
   "name": "python",
   "nbconvert_exporter": "python",
   "pygments_lexer": "ipython3",
   "version": "3.12.7"
  }
 },
 "nbformat": 4,
 "nbformat_minor": 2
}
