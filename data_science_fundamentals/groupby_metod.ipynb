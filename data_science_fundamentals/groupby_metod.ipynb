{
 "cells": [
  {
   "cell_type": "code",
   "execution_count": 17,
   "metadata": {},
   "outputs": [
    {
     "name": "stdout",
     "output_type": "stream",
     "text": [
      "<pandas.core.groupby.generic.DataFrameGroupBy object at 0x0000022A6587D3A0>\n"
     ]
    }
   ],
   "source": [
    "import pandas as pd\n",
    "\n",
    "# Crear un DataFrame de ejemplo\n",
    "data = {\n",
    "    'Producto': ['Manzanas', 'Naranjas', 'Bananas', 'Manzanas', 'Naranjas', 'Bananas'],\n",
    "    'Ventas': [50, 30, 20, 60, 40, 30],\n",
    "    'Tienda': ['A', 'A', 'A', 'B', 'B', 'B']\n",
    "}\n",
    "df = pd.DataFrame(data)\n",
    "\n",
    "# Agrupar por columna 'Producto'\n",
    "grouped = df.groupby('Producto')\n",
    "print(grouped)"
   ]
  },
  {
   "cell_type": "code",
   "execution_count": 18,
   "metadata": {},
   "outputs": [
    {
     "name": "stdout",
     "output_type": "stream",
     "text": [
      "Producto\n",
      "Bananas      50\n",
      "Manzanas    110\n",
      "Naranjas     70\n",
      "Name: Ventas, dtype: int64\n",
      "Producto\n",
      "Bananas     25.0\n",
      "Manzanas    55.0\n",
      "Naranjas    35.0\n",
      "Name: Ventas, dtype: float64\n",
      "Producto\n",
      "Bananas     2\n",
      "Manzanas    2\n",
      "Naranjas    2\n",
      "Name: Ventas, dtype: int64\n"
     ]
    }
   ],
   "source": [
    "##Agregacion aggregation\n",
    "\n",
    "# Suma de ventas por producto\n",
    "ventas_por_producto = grouped['Ventas'].sum()\n",
    "print(ventas_por_producto)\n",
    "\n",
    "# Promedio de ventas por producto\n",
    "promedio_ventas_por_producto = grouped['Ventas'].mean()\n",
    "print(promedio_ventas_por_producto)\n",
    "\n",
    "# Número de ventas por producto\n",
    "conteo_ventas_por_producto = grouped['Ventas'].count()\n",
    "print(conteo_ventas_por_producto)"
   ]
  },
  {
   "cell_type": "code",
   "execution_count": 19,
   "metadata": {},
   "outputs": [
    {
     "name": "stdout",
     "output_type": "stream",
     "text": [
      "   Producto  Ventas Tienda  Porcentaje\n",
      "0  Manzanas      50      A   45.454545\n",
      "1  Naranjas      30      A   42.857143\n",
      "2   Bananas      20      A   40.000000\n",
      "3  Manzanas      60      B   54.545455\n",
      "4  Naranjas      40      B   57.142857\n",
      "5   Bananas      30      B   60.000000\n"
     ]
    }
   ],
   "source": [
    "##Transformacion transformation\n",
    "# Calcular el porcentaje de ventas de cada producto en su tienda\n",
    "df['Porcentaje'] = grouped['Ventas'].transform(lambda x: x / x.sum() * 100)\n",
    "print(df)"
   ]
  },
  {
   "cell_type": "code",
   "execution_count": 20,
   "metadata": {},
   "outputs": [
    {
     "name": "stdout",
     "output_type": "stream",
     "text": [
      "   Producto  Ventas Tienda  Porcentaje\n",
      "0  Manzanas      50      A   45.454545\n",
      "1  Naranjas      30      A   42.857143\n",
      "3  Manzanas      60      B   54.545455\n",
      "4  Naranjas      40      B   57.142857\n"
     ]
    }
   ],
   "source": [
    "##Filtering filtro\n",
    "# Filtrar productos con ventas totales mayores a 50\n",
    "filtro = grouped.filter(lambda x: x['Ventas'].sum() > 50)\n",
    "print(filtro)"
   ]
  },
  {
   "cell_type": "code",
   "execution_count": 6,
   "metadata": {},
   "outputs": [
    {
     "name": "stdout",
     "output_type": "stream",
     "text": [
      "Tienda\n",
      "A    100\n",
      "B    130\n",
      "Name: Ventas, dtype: int64\n",
      "Tienda\n",
      "A    33.333333\n",
      "B    43.333333\n",
      "Name: Ventas, dtype: float64\n",
      "Tienda\n",
      "A    3\n",
      "B    3\n",
      "Name: Ventas, dtype: int64\n",
      "Tienda\n",
      "A    20\n",
      "B    30\n",
      "Name: Ventas, dtype: int64\n",
      "Tienda\n",
      "A    50\n",
      "B    60\n",
      "Name: Ventas, dtype: int64\n",
      "Tienda\n",
      "A    15.275252\n",
      "B    15.275252\n",
      "Name: Ventas, dtype: float64\n",
      "Tienda\n",
      "A    233.333333\n",
      "B    233.333333\n",
      "Name: Ventas, dtype: float64\n"
     ]
    }
   ],
   "source": [
    "# Suma de ventas por tienda\n",
    "ventas_por_tienda = df.groupby('Tienda')['Ventas'].sum()\n",
    "print(ventas_por_tienda)\n",
    "\n",
    "# Promedio de ventas por tienda\n",
    "promedio_ventas_por_tienda = df.groupby('Tienda')['Ventas'].mean()\n",
    "print(promedio_ventas_por_tienda)\n",
    "\n",
    "# Número de ventas por tienda\n",
    "conteo_ventas_por_tienda = df.groupby('Tienda')['Ventas'].count()\n",
    "print(conteo_ventas_por_tienda)\n",
    "\n",
    "# Ventas mínimas y máximas por tienda\n",
    "ventas_minimas_por_tienda = df.groupby('Tienda')['Ventas'].min()\n",
    "ventas_maximas_por_tienda = df.groupby('Tienda')['Ventas'].max()\n",
    "print(ventas_minimas_por_tienda)\n",
    "print(ventas_maximas_por_tienda)\n",
    "\n",
    "# Desviación estándar de las ventas por tienda\n",
    "desviacion_estandar_ventas = df.groupby('Tienda')['Ventas'].std()\n",
    "print(desviacion_estandar_ventas)\n",
    "\n",
    "# Varianza de las ventas por tienda\n",
    "varianza_ventas = df.groupby('Tienda')['Ventas'].var()\n",
    "print(varianza_ventas)"
   ]
  },
  {
   "cell_type": "code",
   "execution_count": 7,
   "metadata": {},
   "outputs": [
    {
     "name": "stdout",
     "output_type": "stream",
     "text": [
      "Producto  Tienda\n",
      "Bananas   A         20\n",
      "          B         30\n",
      "Manzanas  A         50\n",
      "          B         60\n",
      "Naranjas  A         30\n",
      "          B         40\n",
      "Name: Ventas, dtype: int64\n",
      "Producto  Tienda\n",
      "Bananas   A         20.0\n",
      "          B         30.0\n",
      "Manzanas  A         50.0\n",
      "          B         60.0\n",
      "Naranjas  A         30.0\n",
      "          B         40.0\n",
      "Name: Ventas, dtype: float64\n"
     ]
    }
   ],
   "source": [
    "# Agrupar por 'Producto' y 'Tienda'\n",
    "grouped_multi = df.groupby(['Producto', 'Tienda'])\n",
    "\n",
    "# Suma de ventas por producto y tienda\n",
    "ventas_por_producto_y_tienda = grouped_multi['Ventas'].sum()\n",
    "print(ventas_por_producto_y_tienda)\n",
    "\n",
    "# Promedio de ventas por producto y tienda\n",
    "promedio_ventas_por_producto_y_tienda = grouped_multi['Ventas'].mean()\n",
    "print(promedio_ventas_por_producto_y_tienda)"
   ]
  },
  {
   "cell_type": "code",
   "execution_count": 11,
   "metadata": {},
   "outputs": [
    {
     "name": "stdout",
     "output_type": "stream",
     "text": [
      "          sum  mean  count\n",
      "Producto                  \n",
      "Bananas    50  25.0      2\n",
      "Manzanas  110  55.0      2\n",
      "Naranjas   70  35.0      2\n",
      "Producto\n",
      "Bananas     10\n",
      "Manzanas    10\n",
      "Naranjas    10\n",
      "Name: Ventas, dtype: int64\n"
     ]
    }
   ],
   "source": [
    "\n",
    "# Aplicar múltiples funciones de agregación a 'Ventas' agrupadas por 'Producto'\n",
    "agg_result = df.groupby('Producto')['Ventas'].agg(['sum', 'mean', 'count'])\n",
    "print(agg_result)\n",
    "\n",
    "# Calcular el rango (max - min) de ventas por producto\n",
    "rango_ventas_por_producto = df.groupby('Producto')['Ventas'].apply(lambda x: x.max() - x.min())\n",
    "print(rango_ventas_por_producto)"
   ]
  },
  {
   "cell_type": "code",
   "execution_count": 14,
   "metadata": {},
   "outputs": [
    {
     "name": "stdout",
     "output_type": "stream",
     "text": [
      "                  sum   mean\n",
      "Producto Mes                \n",
      "Bananas  Enero     50   50.0\n",
      "         Febrero   70   70.0\n",
      "Manzanas Enero    100  100.0\n",
      "         Febrero  120  120.0\n",
      "Naranjas Enero     80   80.0\n",
      "         Febrero   90   90.0\n"
     ]
    },
    {
     "data": {
      "text/plain": [
       "FrozenList([None])"
      ]
     },
     "execution_count": 14,
     "metadata": {},
     "output_type": "execute_result"
    }
   ],
   "source": [
    "# Crear un DataFrame de ejemplo\n",
    "data = {\n",
    "    'Producto': ['Manzanas', 'Naranjas', 'Bananas', 'Manzanas', 'Naranjas', 'Bananas'],\n",
    "    'Mes': ['Enero', 'Enero', 'Enero', 'Febrero', 'Febrero', 'Febrero'],\n",
    "    'Ventas': [100, 80, 50, 120, 90, 70]\n",
    "}\n",
    "df = pd.DataFrame(data)\n",
    "\n",
    "# Agrupar por 'Producto' y 'Mes'\n",
    "grouped = df.groupby(['Producto', 'Mes'])\n",
    "\n",
    "# Suma y promedio de ventas por producto y mes\n",
    "ventas_por_producto_y_mes = grouped['Ventas'].agg(['sum', 'mean'])\n",
    "print(ventas_por_producto_y_mes)\n",
    "df.index.names"
   ]
  },
  {
   "cell_type": "code",
   "execution_count": 15,
   "metadata": {},
   "outputs": [
    {
     "name": "stdout",
     "output_type": "stream",
     "text": [
      "Cantidad de compras por cliente:\n",
      "Cliente\n",
      "A    3\n",
      "B    2\n",
      "C    2\n",
      "Name: Compra, dtype: int64\n",
      "nMonto total gastado por cliente:\n",
      "Cliente\n",
      "A    490\n",
      "B    320\n",
      "C    330\n",
      "Name: Monto, dtype: int64\n"
     ]
    }
   ],
   "source": [
    "# Crear un DataFrame de ejemplo\n",
    "data = {\n",
    "    'Cliente': ['A', 'B', 'C', 'A', 'B', 'C', 'A'],\n",
    "    'Monto': [100, 200, 150, 300, 120, 180, 90],\n",
    "    'Compra': [1, 1, 1, 2, 2, 2, 3]\n",
    "}\n",
    "df = pd.DataFrame(data)\n",
    "\n",
    "# Agrupar por 'Cliente'\n",
    "grouped = df.groupby('Cliente')\n",
    "\n",
    "# Analizar la cantidad de compras y el monto total gastado por cada cliente\n",
    "cantidad_compras = grouped['Compra'].count()\n",
    "monto_total = grouped['Monto'].sum()\n",
    "\n",
    "print(\"Cantidad de compras por cliente:\")\n",
    "print(cantidad_compras)\n",
    "\n",
    "print(\"nMonto total gastado por cliente:\")\n",
    "print(monto_total)\n",
    "\n"
   ]
  }
 ],
 "metadata": {
  "kernelspec": {
   "display_name": "bootcamp_coding_dojo",
   "language": "python",
   "name": "python3"
  },
  "language_info": {
   "codemirror_mode": {
    "name": "ipython",
    "version": 3
   },
   "file_extension": ".py",
   "mimetype": "text/x-python",
   "name": "python",
   "nbconvert_exporter": "python",
   "pygments_lexer": "ipython3",
   "version": "3.12.7"
  }
 },
 "nbformat": 4,
 "nbformat_minor": 2
}
