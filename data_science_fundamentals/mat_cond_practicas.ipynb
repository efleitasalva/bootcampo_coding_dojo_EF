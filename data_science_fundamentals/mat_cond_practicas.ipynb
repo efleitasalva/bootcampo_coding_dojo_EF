{
 "cells": [
  {
   "cell_type": "code",
   "execution_count": 2,
   "metadata": {},
   "outputs": [],
   "source": [
    "def calculadora():\n",
    "    print(\"Calculadora Básica\")\n",
    "    \n",
    "    # Captura los números del usuario\n",
    "    num1 = float(input(\"Ingresa el primer número: \"))\n",
    "    num2 = float(input(\"Ingresa el segundo número: \"))\n",
    "    \n",
    "    # Muestra el menú de operaciones\n",
    "    print(\"Selecciona una operación:\")\n",
    "    print(\"1. Suma\")\n",
    "    print(\"2. Resta\")\n",
    "    print(\"3. Multiplicación\")\n",
    "    print(\"4. División\")\n",
    "    \n",
    "    # Captura la opción seleccionada\n",
    "    opcion = input(\"Ingresa el número de la operación: \")\n",
    "    \n",
    "    # Realiza la operación seleccionada\n",
    "    if opcion == \"1\":\n",
    "        resultado = num1 + num2\n",
    "        print(\"El resultado de la suma es:\", resultado)\n",
    "    elif opcion == \"2\":\n",
    "        resultado = num1 - num2\n",
    "        print(\"El resultado de la resta es:\", resultado)\n",
    "    elif opcion == \"3\":\n",
    "        resultado = num1 * num2\n",
    "        print(\"El resultado de la multiplicación es:\", resultado)\n",
    "    elif opcion == \"4\":\n",
    "        if num2 != 0:\n",
    "            resultado = num1 / num2\n",
    "            print(\"El resultado de la división es:\", resultado)\n",
    "        else:\n",
    "            print(\"Error: División por cero\")\n",
    "    else:\n",
    "        print(\"Opción no válida\")\n",
    "\n"
   ]
  },
  {
   "cell_type": "code",
   "execution_count": 4,
   "metadata": {},
   "outputs": [
    {
     "name": "stdout",
     "output_type": "stream",
     "text": [
      "Calculadora Básica\n",
      "Selecciona una operación:\n",
      "1. Suma\n",
      "2. Resta\n",
      "3. Multiplicación\n",
      "4. División\n",
      "El resultado de la división es: 0.35294117647058826\n"
     ]
    }
   ],
   "source": [
    "calculadora()"
   ]
  },
  {
   "cell_type": "code",
   "execution_count": 21,
   "metadata": {},
   "outputs": [
    {
     "name": "stdout",
     "output_type": "stream",
     "text": [
      "Eres mayor de edad.\n"
     ]
    }
   ],
   "source": [
    "edad = int(input(\"¿Cuál es tu edad? \"))\n",
    "\n",
    "if edad <=0:\n",
    "    print(\"Aun no has nacido\") \n",
    "elif edad  >= 18:\n",
    "        print(\"Eres mayor de edad.\")\n",
    "elif edad < 18:\n",
    "    print(\"No eres mayor de edad.\")"
   ]
  },
  {
   "cell_type": "code",
   "execution_count": 23,
   "metadata": {},
   "outputs": [
    {
     "name": "stdout",
     "output_type": "stream",
     "text": [
      "¡Bienvenido al juego de adivinanza!\n",
      "He seleccionado un número entre 1 y 100. ¡Adivina cuál es!\n",
      "El número es mayor.\n",
      "El número es mayor.\n",
      "El número es mayor.\n",
      "El número es menor.\n",
      "El número es mayor.\n",
      "El número es mayor.\n",
      "El número es menor.\n",
      "El número es menor.\n",
      "El número es menor.\n",
      "¡Felicidades! Has adivinado el número en 10 intentos.\n"
     ]
    }
   ],
   "source": [
    "import random\n",
    "\n",
    "numero_secreto = random.randint(1, 100)\n",
    "intentos = 0\n",
    "encontrado = False\n",
    "\n",
    "print(\"¡Bienvenido al juego de adivinanza!\")\n",
    "print(\"He seleccionado un número entre 1 y 100. ¡Adivina cuál es!\")\n",
    "\n",
    "while not encontrado:\n",
    "    intento = int(input(\"Ingresa tu número: \"))\n",
    "    intentos += 1\n",
    "    \n",
    "    if intento < numero_secreto:\n",
    "        print(\"El número es mayor.\")\n",
    "    elif intento > numero_secreto:\n",
    "        print(\"El número es menor.\")\n",
    "    else:\n",
    "        print(f\"¡Felicidades! Has adivinado el número en {intentos} intentos.\")\n",
    "        encontrado = True"
   ]
  },
  {
   "cell_type": "code",
   "execution_count": 25,
   "metadata": {},
   "outputs": [
    {
     "name": "stdout",
     "output_type": "stream",
     "text": [
      "El segundo número es el mayor. 25345345345.0\n"
     ]
    }
   ],
   "source": [
    "num1 = float(input(\"Ingresa el primer número: \"))\n",
    "num2 = float(input(\"Ingresa el segundo número: \"))\n",
    "num3 = float(input(\"Ingresa el tercer número: \"))\n",
    "\n",
    "if num1 >= num2 and num1 >= num3:\n",
    "    print(\"El primer número es el mayor.\",num1)\n",
    "elif num2 >= num1 and num2 >= num3:\n",
    "    print(\"El segundo número es el mayor.\",num2)\n",
    "else:\n",
    "    print(\"El tercer número es el mayor.\",num3)"
   ]
  }
 ],
 "metadata": {
  "kernelspec": {
   "display_name": "bootcamp_coding_dojo",
   "language": "python",
   "name": "python3"
  },
  "language_info": {
   "codemirror_mode": {
    "name": "ipython",
    "version": 3
   },
   "file_extension": ".py",
   "mimetype": "text/x-python",
   "name": "python",
   "nbconvert_exporter": "python",
   "pygments_lexer": "ipython3",
   "version": "3.12.7"
  }
 },
 "nbformat": 4,
 "nbformat_minor": 2
}
