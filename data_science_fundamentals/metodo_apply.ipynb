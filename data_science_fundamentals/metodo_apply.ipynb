{
 "cells": [
  {
   "cell_type": "code",
   "execution_count": 1,
   "metadata": {},
   "outputs": [
    {
     "name": "stdout",
     "output_type": "stream",
     "text": [
      "   A   B  A_squared\n",
      "0  1  10          1\n",
      "1  2  20          4\n",
      "2  3  30          9\n",
      "3  4  40         16\n"
     ]
    }
   ],
   "source": [
    "import pandas as pd\n",
    "\n",
    "# Crear un DataFrame de ejemplo\n",
    "data = {\n",
    "    'A': [1, 2, 3, 4],\n",
    "    'B': [10, 20, 30, 40]\n",
    "}\n",
    "df = pd.DataFrame(data)\n",
    "\n",
    "# Aplicar una función a la columna 'A'\n",
    "df['A_squared'] = df['A'].apply(lambda x: x ** 2) #axis 0 por defecto columnas\n",
    "print(df)\n"
   ]
  },
  {
   "cell_type": "code",
   "execution_count": 3,
   "metadata": {},
   "outputs": [
    {
     "name": "stdout",
     "output_type": "stream",
     "text": [
      "   A   B  A_squared  sum_row\n",
      "0  1  10          1       11\n",
      "1  2  20          4       22\n",
      "2  3  30          9       33\n",
      "3  4  40         16       44\n",
      "   A   B  A_squared  sum_row  A_B_ratio\n",
      "0  1  10          1       11        0.1\n",
      "1  2  20          4       22        0.1\n",
      "2  3  30          9       33        0.1\n",
      "3  4  40         16       44        0.1\n"
     ]
    }
   ],
   "source": [
    "# Aplicar una función a lo largo de las filas\n",
    "df['sum_row'] = df.apply(lambda row: row['A'] + row['B'], axis=1)#axis 1 filas\n",
    "print(df)\n",
    "# Crear una nueva columna basada en múltiples columnas\n",
    "df['A_B_ratio'] = df.apply(lambda row: row['A'] / row['B'], axis=1)\n",
    "print(df)"
   ]
  },
  {
   "cell_type": "code",
   "execution_count": 4,
   "metadata": {},
   "outputs": [
    {
     "name": "stdout",
     "output_type": "stream",
     "text": [
      "  Estudiante  Calificación  Resultado\n",
      "0        Ana            85   Aprobado\n",
      "1       Luis            40  Reprobado\n",
      "2     Carlos            72   Aprobado\n",
      "3      Marta            65   Aprobado\n"
     ]
    }
   ],
   "source": [
    "# Crear un DataFrame de ejemplo\n",
    "data = {\n",
    "    'Estudiante': ['Ana', 'Luis', 'Carlos', 'Marta'],\n",
    "    'Calificación': [85, 40, 72, 65]\n",
    "}\n",
    "df = pd.DataFrame(data)\n",
    "\n",
    "# Clasificar las calificaciones\n",
    "df['Resultado'] = df['Calificación'].apply(lambda x: 'Aprobado' if x >= 60 else 'Reprobado')\n",
    "print(df)"
   ]
  },
  {
   "cell_type": "code",
   "execution_count": 5,
   "metadata": {},
   "outputs": [
    {
     "name": "stdout",
     "output_type": "stream",
     "text": [
      "  Producto  Ventas  Ventas_normalizado\n",
      "0        A     200            0.000000\n",
      "1        B     300            0.333333\n",
      "2        C     400            0.666667\n",
      "3        D     500            1.000000\n"
     ]
    }
   ],
   "source": [
    "# Crear un DataFrame de ejemplo\n",
    "data = {\n",
    "    'Producto': ['A', 'B', 'C', 'D'],\n",
    "    'Ventas': [200, 300, 400, 500]\n",
    "}\n",
    "df = pd.DataFrame(data)\n",
    "\n",
    "# Normalizar la columna 'Ventas'\n",
    "max_value = df['Ventas'].max()\n",
    "min_value = df['Ventas'].min()\n",
    "df['Ventas_normalizado'] = df['Ventas'].apply(lambda x: (x - min_value) / (max_value - min_value))\n",
    "print(df)"
   ]
  },
  {
   "cell_type": "code",
   "execution_count": 7,
   "metadata": {},
   "outputs": [
    {
     "name": "stdout",
     "output_type": "stream",
     "text": [
      "   A   B  MAD_A\n",
      "0  1  10    1.5\n",
      "1  2  20    0.5\n",
      "2  3  30    0.5\n",
      "3  4  40    1.5\n"
     ]
    }
   ],
   "source": [
    "import numpy as np\n",
    "# Crear un DataFrame de ejemplo\n",
    "data = {\n",
    "    'A': [1, 2, 3, 4],\n",
    "    'B': [10, 20, 30, 40]\n",
    "}\n",
    "df = pd.DataFrame(data)\n",
    "\n",
    "# Calcular la desviación absoluta media\n",
    "mean_A = df['A'].mean()\n",
    "df['MAD_A'] = df['A'].apply(lambda x: np.abs(x - mean_A))\n",
    "print(df)"
   ]
  },
  {
   "cell_type": "code",
   "execution_count": 8,
   "metadata": {},
   "outputs": [
    {
     "name": "stdout",
     "output_type": "stream",
     "text": [
      "   Producto  Ventas  Precio  Ingreso Clasificación  Ventas_normalizado\n",
      "0  Manzanas      50    0.50     25.0          Alta                0.75\n",
      "1  Naranjas      30    0.75     22.5          Baja                0.25\n",
      "2   Bananas      20    0.30      6.0          Baja                0.00\n",
      "3  Manzanas      60    0.55     33.0          Alta                1.00\n",
      "4  Naranjas      40    0.80     32.0          Baja                0.50\n",
      "5   Bananas      30    0.35     10.5          Baja                0.25\n"
     ]
    }
   ],
   "source": [
    "# Crear un DataFrame de ejemplo\n",
    "data = {\n",
    "    'Producto': ['Manzanas', 'Naranjas', 'Bananas', 'Manzanas', 'Naranjas', 'Bananas'],\n",
    "    'Ventas': [50, 30, 20, 60, 40, 30],\n",
    "    'Precio': [0.5, 0.75, 0.3, 0.55, 0.8, 0.35]\n",
    "}\n",
    "df = pd.DataFrame(data)\n",
    "\n",
    "# Calcular el ingreso total por venta\n",
    "df['Ingreso'] = df.apply(lambda row: row['Ventas'] * row['Precio'], axis=1)\n",
    "\n",
    "# Clasificar los productos por rango de ventas\n",
    "df['Clasificación'] = df['Ventas'].apply(lambda x: 'Alta' if x > 40 else 'Baja')\n",
    "\n",
    "# Normalizar la columna 'Ventas'\n",
    "max_ventas = df['Ventas'].max()\n",
    "min_ventas = df['Ventas'].min()\n",
    "df['Ventas_normalizado'] = df['Ventas'].apply(lambda x: (x - min_ventas) / (max_ventas - min_ventas))\n",
    "\n",
    "# Mostrar el DataFrame resultante\n",
    "print(df)"
   ]
  }
 ],
 "metadata": {
  "kernelspec": {
   "display_name": "bootcamp_coding_dojo",
   "language": "python",
   "name": "python3"
  },
  "language_info": {
   "codemirror_mode": {
    "name": "ipython",
    "version": 3
   },
   "file_extension": ".py",
   "mimetype": "text/x-python",
   "name": "python",
   "nbconvert_exporter": "python",
   "pygments_lexer": "ipython3",
   "version": "3.12.7"
  }
 },
 "nbformat": 4,
 "nbformat_minor": 2
}
