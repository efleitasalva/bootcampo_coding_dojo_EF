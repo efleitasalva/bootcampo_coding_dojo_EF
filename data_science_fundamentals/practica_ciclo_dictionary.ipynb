{
 "cells": [
  {
   "cell_type": "code",
   "execution_count": 1,
   "metadata": {},
   "outputs": [
    {
     "name": "stdout",
     "output_type": "stream",
     "text": [
      "manzanas: 50\n",
      "naranjas: 30\n",
      "bananas: 20\n",
      "peras: 15\n",
      "nInventario actualizado:\n",
      "manzanas: 50\n",
      "naranjas: 25\n",
      "bananas: 20\n",
      "uvas: 40\n"
     ]
    }
   ],
   "source": [
    "# Creación del diccionario de inventario\n",
    "inventario = {\n",
    "    \"manzanas\": 50,\n",
    "    \"naranjas\": 30,\n",
    "    \"bananas\": 20,\n",
    "    \"peras\": 15\n",
    "}\n",
    "\n",
    "# Mostrar todos los productos y sus cantidades\n",
    "for producto, cantidad in inventario.items():\n",
    "    print(f\"{producto}: {cantidad}\")\n",
    "\n",
    "# Actualizar la cantidad de un producto específico\n",
    "inventario[\"naranjas\"] = 25\n",
    "\n",
    "# Agregar un nuevo producto al inventario\n",
    "inventario[\"uvas\"] = 40\n",
    "\n",
    "# Eliminar un producto del inventario\n",
    "del inventario[\"peras\"]\n",
    "\n",
    "# Mostrar el inventario actualizado\n",
    "print(\"nInventario actualizado:\")\n",
    "for producto, cantidad in inventario.items():\n",
    "    print(f\"{producto}: {cantidad}\")"
   ]
  },
  {
   "cell_type": "code",
   "execution_count": 2,
   "metadata": {},
   "outputs": [
    {
     "name": "stdout",
     "output_type": "stream",
     "text": [
      "Juan: 85\n",
      "María: 92\n",
      "Pedro: 78\n",
      "Ana: 89\n",
      "Luis: 95\n",
      "nCalificación promedio: 87.80\n",
      "Calificación más alta: 95\n",
      "Calificación más baja: 78\n"
     ]
    }
   ],
   "source": [
    "# Creación de la lista de tuplas con nombres y calificaciones\n",
    "estudiantes = [(\"Juan\", 85), (\"María\", 92), (\"Pedro\", 78), (\"Ana\", 89), (\"Luis\", 95)]\n",
    "\n",
    "# Mostrar todos los nombres y calificaciones\n",
    "for nombre, calificacion in estudiantes:\n",
    "    print(f\"{nombre}: {calificacion}\")\n",
    "\n",
    "# Calcular la calificación promedio\n",
    "suma_calificaciones = sum(calificacion for nombre, calificacion in estudiantes)\n",
    "promedio = suma_calificaciones / len(estudiantes)\n",
    "print(f\"nCalificación promedio: {promedio:.2f}\")\n",
    "\n",
    "# Encontrar la calificación más alta y más baja\n",
    "calificaciones = [calificacion for nombre, calificacion in estudiantes]\n",
    "calificacion_maxima = max(calificaciones)\n",
    "calificacion_minima = min(calificaciones)\n",
    "print(f\"Calificación más alta: {calificacion_maxima}\")\n",
    "print(f\"Calificación más baja: {calificacion_minima}\")"
   ]
  },
  {
   "cell_type": "code",
   "execution_count": 4,
   "metadata": {},
   "outputs": [
    {
     "name": "stdout",
     "output_type": "stream",
     "text": [
      "Carlos: 1750\n",
      "María: 2350\n",
      "Luis: 2100\n",
      "Ana: 3150\n",
      "{'Carlos': 1750, 'María': 2350, 'Luis': 2100, 'Ana': 3150}\n",
      "nVendedor con el mayor total de ventas: Ana con 3150 ventas\n"
     ]
    }
   ],
   "source": [
    "# Creación del diccionario de ventas\n",
    "ventas = {\n",
    "    \"Carlos\": [100, 200, 150, 300, 250, 400, 350],\n",
    "    \"María\": [200, 300, 250, 350, 300, 450, 500],\n",
    "    \"Luis\": [150, 250, 200, 300, 350, 400, 450],\n",
    "    \"Ana\": [300, 350, 400, 450, 500, 550, 600]\n",
    "}\n",
    "\n",
    "# Mostrar el total de ventas de cada vendedor\n",
    "for vendedor, lista_ventas in ventas.items():\n",
    "    total_ventas = sum(lista_ventas)\n",
    "    print(f\"{vendedor}: {total_ventas}\")\n",
    "\n",
    "# Calcular y mostrar el vendedor con el mayor total de ventas\n",
    "ventas_totales = {vendedor: sum(lista_ventas) for vendedor, lista_ventas in ventas.items()}\n",
    "print(ventas_totales)\n",
    "vendedor_maximo = max(ventas_totales, key=ventas_totales.get)\n",
    "print(f\"nVendedor con el mayor total de ventas: {vendedor_maximo} con {ventas_totales[vendedor_maximo]} ventas\")"
   ]
  }
 ],
 "metadata": {
  "kernelspec": {
   "display_name": "bootcamp_coding_dojo",
   "language": "python",
   "name": "python3"
  },
  "language_info": {
   "codemirror_mode": {
    "name": "ipython",
    "version": 3
   },
   "file_extension": ".py",
   "mimetype": "text/x-python",
   "name": "python",
   "nbconvert_exporter": "python",
   "pygments_lexer": "ipython3",
   "version": "3.12.7"
  }
 },
 "nbformat": 4,
 "nbformat_minor": 2
}
