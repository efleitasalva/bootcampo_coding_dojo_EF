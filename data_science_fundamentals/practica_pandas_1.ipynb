{
 "cells": [
  {
   "cell_type": "code",
   "execution_count": 2,
   "metadata": {},
   "outputs": [
    {
     "name": "stdout",
     "output_type": "stream",
     "text": [
      "Primeras filas del DataFrame:\n",
      "   Transaction ID        Date Customer ID  Gender  Age Product Category  \\\n",
      "0               1  2023-11-24     CUST001    Male   34           Beauty   \n",
      "1               2  2023-02-27     CUST002  Female   26         Clothing   \n",
      "2               3  2023-01-13     CUST003    Male   50      Electronics   \n",
      "3               4  2023-05-21     CUST004    Male   37         Clothing   \n",
      "4               5  2023-05-06     CUST005    Male   30           Beauty   \n",
      "\n",
      "   Quantity  Price per Unit  Total Amount  \n",
      "0         3              50           150  \n",
      "1         2             500          1000  \n",
      "2         1              30            30  \n",
      "3         1             500           500  \n",
      "4         2              50           100  \n",
      "nÚltimas filas del DataFrame:\n",
      "     Transaction ID        Date Customer ID  Gender  Age Product Category  \\\n",
      "995             996  2023-05-16     CUST996    Male   62         Clothing   \n",
      "996             997  2023-11-17     CUST997    Male   52           Beauty   \n",
      "997             998  2023-10-29     CUST998  Female   23           Beauty   \n",
      "998             999  2023-12-05     CUST999  Female   36      Electronics   \n",
      "999            1000  2023-04-12    CUST1000    Male   47      Electronics   \n",
      "\n",
      "     Quantity  Price per Unit  Total Amount  \n",
      "995         1              50            50  \n",
      "996         3              30            90  \n",
      "997         4              25           100  \n",
      "998         3              50           150  \n",
      "999         4              30           120  \n"
     ]
    }
   ],
   "source": [
    "import pandas as pd\n",
    "\n",
    "# Cargar datos desde un archivo CSV\n",
    "df = pd.read_csv('C:/Users/ENRIF/Desktop/retail_sales_dataset.csv')\n",
    "\n",
    "# Ver las primeras y últimas filas del DataFrame\n",
    "print(\"Primeras filas del DataFrame:\")\n",
    "print(df.head())\n",
    "\n",
    "print(\"nÚltimas filas del DataFrame:\")\n",
    "print(df.tail())\n",
    "\n"
   ]
  },
  {
   "cell_type": "code",
   "execution_count": 4,
   "metadata": {},
   "outputs": [
    {
     "name": "stdout",
     "output_type": "stream",
     "text": [
      "nInformación del DataFrame:\n",
      "<class 'pandas.core.frame.DataFrame'>\n",
      "RangeIndex: 1000 entries, 0 to 999\n",
      "Data columns (total 9 columns):\n",
      " #   Column            Non-Null Count  Dtype \n",
      "---  ------            --------------  ----- \n",
      " 0   Transaction ID    1000 non-null   int64 \n",
      " 1   Date              1000 non-null   object\n",
      " 2   Customer ID       1000 non-null   object\n",
      " 3   Gender            1000 non-null   object\n",
      " 4   Age               1000 non-null   int64 \n",
      " 5   Product Category  1000 non-null   object\n",
      " 6   Quantity          1000 non-null   int64 \n",
      " 7   Price per Unit    1000 non-null   int64 \n",
      " 8   Total Amount      1000 non-null   int64 \n",
      "dtypes: int64(5), object(4)\n",
      "memory usage: 70.4+ KB\n",
      "None\n",
      "nEstadísticas descriptivas del DataFrame:\n",
      "       Transaction ID         Age     Quantity  Price per Unit  Total Amount\n",
      "count     1000.000000  1000.00000  1000.000000     1000.000000   1000.000000\n",
      "mean       500.500000    41.39200     2.514000      179.890000    456.000000\n",
      "std        288.819436    13.68143     1.132734      189.681356    559.997632\n",
      "min          1.000000    18.00000     1.000000       25.000000     25.000000\n",
      "25%        250.750000    29.00000     1.000000       30.000000     60.000000\n",
      "50%        500.500000    42.00000     3.000000       50.000000    135.000000\n",
      "75%        750.250000    53.00000     4.000000      300.000000    900.000000\n",
      "max       1000.000000    64.00000     4.000000      500.000000   2000.000000\n"
     ]
    }
   ],
   "source": [
    "# Obtener información general sobre el DataFrame\n",
    "print(\"nInformación del DataFrame:\")\n",
    "print(df.info())\n",
    "\n",
    "# Generar estadísticas descriptivas\n",
    "print(\"nEstadísticas descriptivas del DataFrame:\")\n",
    "print(df.describe())\n",
    "\n",
    "\n"
   ]
  },
  {
   "cell_type": "code",
   "execution_count": 9,
   "metadata": {},
   "outputs": [
    {
     "name": "stdout",
     "output_type": "stream",
     "text": [
      "nTipos de datos de las columnas:\n",
      "Transaction ID       int64\n",
      "Date                object\n",
      "Customer ID         object\n",
      "Gender              object\n",
      "Age                  int64\n",
      "Product Category    object\n",
      "Quantity             int64\n",
      "Price per Unit       int64\n",
      "Total Amount         int64\n",
      "dtype: object\n",
      "nConteo de valores únicos en la columna 'nombre_columna':\n",
      "Date\n",
      "2023-05-16    11\n",
      "2023-07-14    10\n",
      "2023-05-23     9\n",
      "2023-08-05     8\n",
      "2023-02-05     8\n",
      "              ..\n",
      "2023-09-10     1\n",
      "2023-02-16     1\n",
      "2023-03-31     1\n",
      "2023-01-25     1\n",
      "2023-05-28     1\n",
      "Name: count, Length: 345, dtype: int64\n",
      "nValores únicos en la columna 'nombre_columna':\n",
      "['Beauty' 'Clothing' 'Electronics']\n",
      "nNúmero de valores únicos en la columna 'nombre_columna':\n",
      "1000\n"
     ]
    }
   ],
   "source": [
    "# Inspeccionar los tipos de datos de las columnas\n",
    "print(\"nTipos de datos de las columnas:\")\n",
    "print(df.dtypes)\n",
    "\n",
    "# Contar valores únicos en una columna específica\n",
    "print(\"nConteo de valores únicos en la columna 'nombre_columna':\")\n",
    "print(df['Date'].value_counts())\n",
    "\n",
    "# Obtener valores únicos en una columna específica\n",
    "print(\"nValores únicos en la columna 'nombre_columna':\")\n",
    "print(df['Product Category'].unique())\n",
    "\n",
    "# Obtener el número de valores únicos en una columna específica\n",
    "print(\"nNúmero de valores únicos en la columna 'nombre_columna':\")\n",
    "print(df['Customer ID'].nunique())\n"
   ]
  },
  {
   "cell_type": "code",
   "execution_count": 10,
   "metadata": {},
   "outputs": [
    {
     "name": "stdout",
     "output_type": "stream",
     "text": [
      "nDataFrame con columna renombrada:\n",
      "   Transaction ID        Date Customer ID  Gender  Age Product Category  \\\n",
      "0               1  2023-11-24     CUST001    Male   34           Beauty   \n",
      "1               2  2023-02-27     CUST002  Female   26         Clothing   \n",
      "2               3  2023-01-13     CUST003    Male   50      Electronics   \n",
      "3               4  2023-05-21     CUST004    Male   37         Clothing   \n",
      "4               5  2023-05-06     CUST005    Male   30           Beauty   \n",
      "\n",
      "   Quantity  Price per Unit  Venta Total  \n",
      "0         3              50          150  \n",
      "1         2             500         1000  \n",
      "2         1              30           30  \n",
      "3         1             500          500  \n",
      "4         2              50          100  \n",
      "nDataFrame con nuevo índice:\n",
      "             Transaction ID        Date Customer ID  Gender  Age  \\\n",
      "Venta Total                                                        \n",
      "150                       1  2023-11-24     CUST001    Male   34   \n",
      "1000                      2  2023-02-27     CUST002  Female   26   \n",
      "30                        3  2023-01-13     CUST003    Male   50   \n",
      "500                       4  2023-05-21     CUST004    Male   37   \n",
      "100                       5  2023-05-06     CUST005    Male   30   \n",
      "\n",
      "            Product Category  Quantity  Price per Unit  \n",
      "Venta Total                                             \n",
      "150                   Beauty         3              50  \n",
      "1000                Clothing         2             500  \n",
      "30               Electronics         1              30  \n",
      "500                 Clothing         1             500  \n",
      "100                   Beauty         2              50  \n"
     ]
    }
   ],
   "source": [
    "# Renombrar una columna\n",
    "df.rename(columns={'Total Amount': 'Venta Total'}, inplace=True)\n",
    "print(\"nDataFrame con columna renombrada:\")\n",
    "print(df.head())\n",
    "\n",
    "# Cambiar el índice del DataFrame\n",
    "df.set_index('Venta Total', inplace=True)\n",
    "print(\"nDataFrame con nuevo índice:\")\n",
    "print(df.head())\n",
    "\n"
   ]
  },
  {
   "cell_type": "code",
   "execution_count": 11,
   "metadata": {},
   "outputs": [
    {
     "name": "stdout",
     "output_type": "stream",
     "text": [
      "nDataFrame ordenado por 'columna_orden':\n",
      "             Transaction ID        Date Customer ID  Gender  Age  \\\n",
      "Venta Total                                                        \n",
      "150                       1  2023-11-24     CUST001    Male   34   \n",
      "1000                      2  2023-02-27     CUST002  Female   26   \n",
      "30                        3  2023-01-13     CUST003    Male   50   \n",
      "500                       4  2023-05-21     CUST004    Male   37   \n",
      "100                       5  2023-05-06     CUST005    Male   30   \n",
      "\n",
      "            Product Category  Quantity  Price per Unit  \n",
      "Venta Total                                             \n",
      "150                   Beauty         3              50  \n",
      "1000                Clothing         2             500  \n",
      "30               Electronics         1              30  \n",
      "500                 Clothing         1             500  \n",
      "100                   Beauty         2              50  \n",
      "nDataFrame ordenado por 'columna1' y 'columna2':\n",
      "             Transaction ID        Date Customer ID  Gender  Age  \\\n",
      "Venta Total                                                        \n",
      "2000                     74  2023-11-22     CUST074  Female   18   \n",
      "2000                     93  2023-07-14     CUST093  Female   35   \n",
      "2000                    139  2023-12-15     CUST139    Male   36   \n",
      "2000                    257  2023-02-19     CUST257    Male   19   \n",
      "2000                    281  2023-05-23     CUST281  Female   29   \n",
      "\n",
      "            Product Category  Quantity  Price per Unit  \n",
      "Venta Total                                             \n",
      "2000                  Beauty         4             500  \n",
      "2000                  Beauty         4             500  \n",
      "2000                  Beauty         4             500  \n",
      "2000                  Beauty         4             500  \n",
      "2000                  Beauty         4             500  \n"
     ]
    }
   ],
   "source": [
    "# Ordenar el DataFrame por una columna\n",
    "df_ordenado = df.sort_values(by='Customer ID')\n",
    "print(\"nDataFrame ordenado por 'columna_orden':\")\n",
    "print(df_ordenado.head())\n",
    "\n",
    "# Ordenar el DataFrame por múltiples columnas\n",
    "df_ordenado_multi = df.sort_values(by=['Product Category', 'Venta Total'], ascending=[True, False])\n",
    "print(\"nDataFrame ordenado por 'columna1' y 'columna2':\")\n",
    "print(df_ordenado_multi.head())\n"
   ]
  }
 ],
 "metadata": {
  "kernelspec": {
   "display_name": "bootcamp_coding_dojo",
   "language": "python",
   "name": "python3"
  },
  "language_info": {
   "codemirror_mode": {
    "name": "ipython",
    "version": 3
   },
   "file_extension": ".py",
   "mimetype": "text/x-python",
   "name": "python",
   "nbconvert_exporter": "python",
   "pygments_lexer": "ipython3",
   "version": "3.12.7"
  }
 },
 "nbformat": 4,
 "nbformat_minor": 2
}
