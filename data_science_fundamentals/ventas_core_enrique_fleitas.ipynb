{
 "cells": [
  {
   "cell_type": "code",
   "execution_count": 21,
   "metadata": {},
   "outputs": [
    {
     "name": "stdout",
     "output_type": "stream",
     "text": [
      "   Transaction ID        Date Customer ID  Gender  Age Product Category  \\\n",
      "0               1  2023-11-24     CUST001    Male   34           Beauty   \n",
      "1               2  2023-02-27     CUST002  Female   26         Clothing   \n",
      "2               3  2023-01-13     CUST003    Male   50      Electronics   \n",
      "3               4  2023-05-21     CUST004    Male   37         Clothing   \n",
      "4               5  2023-05-06     CUST005    Male   30           Beauty   \n",
      "\n",
      "   Quantity  Price per Unit  Total Amount  \n",
      "0         3              50           150  \n",
      "1         2             500          1000  \n",
      "2         1              30            30  \n",
      "3         1             500           500  \n",
      "4         2              50           100  \n",
      "Transaction ID      0\n",
      "Date                0\n",
      "Customer ID         0\n",
      "Gender              0\n",
      "Age                 0\n",
      "Product Category    0\n",
      "Quantity            0\n",
      "Price per Unit      0\n",
      "Total Amount        0\n",
      "dtype: int64\n",
      "Product Category\n",
      "Beauty         143515\n",
      "Clothing       155580\n",
      "Electronics    156905\n",
      "Name: Total Amount, dtype: int64\n"
     ]
    }
   ],
   "source": [
    "import numpy as np\n",
    "\n",
    "dataset_ruta = 'C:/Users/ENRIF/Desktop/retail_sales_dataset.csv'\n",
    "dataset_df = pd.read_csv(dataset_ruta,sep = ',')\n",
    "\n",
    "# 1. Revisar los datos\n",
    "print(dataset_df.head())  # Muestra las primeras filas\n",
    "#print(dataset_df.info())  # Muestra información sobre el dataset\n",
    "\n",
    "# 2. Eliminar o rellenar valores nulos\n",
    "# Mostrar cuántos valores nulos hay en cada columna\n",
    "print(dataset_df.isnull().sum())\n",
    "\n",
    "# Convertir a NumPy\n",
    "categorias = dataset_df['Product Category'].values\n",
    "total_amount = dataset_df['Total Amount'].values\n",
    "\n",
    "# Obtener las categorías únicas\n",
    "categorias_unicas = np.unique(categorias)\n",
    "\n",
    "# Inicializar un diccionario para almacenar los totales\n",
    "totales_ventas = {}\n",
    "\n",
    "def calcular_totales_ventas_por_producto(df):\n",
    "    # Agrupar por 'Product Category' y sumar la columna 'Total Amount'\n",
    "    return df.groupby('Product Category')['Total Amount'].sum()\n",
    "\n",
    "# Llamar a la función y mostrar los resultados\n",
    "total_ventas_por_categoria = calcular_totales_ventas_por_producto(dataset_df)\n",
    "print(total_ventas_por_categoria)\n",
    "\n",
    "def calcular_totales(prodc, total):\n",
    "    \n",
    "\n",
    "#total_ventas_por_categoria = dataset_df.groupby('categoria_producto')['ventas'].sum().reset_index()\n",
    "#ventas_array = dataset_df['total_amount'].values\n",
    "#print(total_ventas_por_categoria)"
   ]
  }
 ],
 "metadata": {
  "kernelspec": {
   "display_name": "bootcamp_coding_dojo",
   "language": "python",
   "name": "python3"
  },
  "language_info": {
   "codemirror_mode": {
    "name": "ipython",
    "version": 3
   },
   "file_extension": ".py",
   "mimetype": "text/x-python",
   "name": "python",
   "nbconvert_exporter": "python",
   "pygments_lexer": "ipython3",
   "version": "3.12.7"
  }
 },
 "nbformat": 4,
 "nbformat_minor": 2
}
