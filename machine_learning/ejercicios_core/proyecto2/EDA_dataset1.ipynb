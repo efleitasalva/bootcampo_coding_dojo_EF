{
 "cells": [
  {
   "cell_type": "code",
   "execution_count": 43,
   "metadata": {},
   "outputs": [],
   "source": [
    "import pandas as pd\n",
    "import utils\n",
    "import matplotlib.pyplot as plt\n",
    "import seaborn as sns\n",
    "from sklearn.model_selection import train_test_split\n",
    "from sklearn.preprocessing import StandardScaler, OneHotEncoder\n",
    "from sklearn.compose import ColumnTransformer\n",
    "from sklearn.pipeline import Pipeline\n",
    "from sklearn.linear_model import LogisticRegression\n",
    "from sklearn.neighbors import KNeighborsClassifier\n",
    "from sklearn.tree import DecisionTreeClassifier\n",
    "from sklearn.model_selection import cross_val_score\n",
    "from sklearn.model_selection import GridSearchCV, RandomizedSearchCV\n",
    "from scipy.stats import randint\n",
    "from sklearn.metrics import accuracy_score, precision_score, recall_score, f1_score, roc_auc_score, confusion_matrix, classification_report, RocCurveDisplay\n"
   ]
  },
  {
   "cell_type": "code",
   "execution_count": 44,
   "metadata": {},
   "outputs": [
    {
     "data": {
      "text/html": [
       "<div>\n",
       "<style scoped>\n",
       "    .dataframe tbody tr th:only-of-type {\n",
       "        vertical-align: middle;\n",
       "    }\n",
       "\n",
       "    .dataframe tbody tr th {\n",
       "        vertical-align: top;\n",
       "    }\n",
       "\n",
       "    .dataframe thead th {\n",
       "        text-align: right;\n",
       "    }\n",
       "</style>\n",
       "<table border=\"1\" class=\"dataframe\">\n",
       "  <thead>\n",
       "    <tr style=\"text-align: right;\">\n",
       "      <th></th>\n",
       "      <th>buying</th>\n",
       "      <th>maint</th>\n",
       "      <th>doors</th>\n",
       "      <th>persons</th>\n",
       "      <th>lug_boot</th>\n",
       "      <th>safety</th>\n",
       "      <th>class</th>\n",
       "    </tr>\n",
       "  </thead>\n",
       "  <tbody>\n",
       "    <tr>\n",
       "      <th>0</th>\n",
       "      <td>vhigh</td>\n",
       "      <td>vhigh</td>\n",
       "      <td>2</td>\n",
       "      <td>2</td>\n",
       "      <td>small</td>\n",
       "      <td>low</td>\n",
       "      <td>unacc</td>\n",
       "    </tr>\n",
       "    <tr>\n",
       "      <th>1</th>\n",
       "      <td>vhigh</td>\n",
       "      <td>vhigh</td>\n",
       "      <td>2</td>\n",
       "      <td>2</td>\n",
       "      <td>small</td>\n",
       "      <td>med</td>\n",
       "      <td>unacc</td>\n",
       "    </tr>\n",
       "    <tr>\n",
       "      <th>2</th>\n",
       "      <td>vhigh</td>\n",
       "      <td>vhigh</td>\n",
       "      <td>2</td>\n",
       "      <td>2</td>\n",
       "      <td>small</td>\n",
       "      <td>high</td>\n",
       "      <td>unacc</td>\n",
       "    </tr>\n",
       "    <tr>\n",
       "      <th>3</th>\n",
       "      <td>vhigh</td>\n",
       "      <td>vhigh</td>\n",
       "      <td>2</td>\n",
       "      <td>2</td>\n",
       "      <td>med</td>\n",
       "      <td>low</td>\n",
       "      <td>unacc</td>\n",
       "    </tr>\n",
       "    <tr>\n",
       "      <th>4</th>\n",
       "      <td>vhigh</td>\n",
       "      <td>vhigh</td>\n",
       "      <td>2</td>\n",
       "      <td>2</td>\n",
       "      <td>med</td>\n",
       "      <td>med</td>\n",
       "      <td>unacc</td>\n",
       "    </tr>\n",
       "  </tbody>\n",
       "</table>\n",
       "</div>"
      ],
      "text/plain": [
       "  buying  maint doors persons lug_boot safety  class\n",
       "0  vhigh  vhigh     2       2    small    low  unacc\n",
       "1  vhigh  vhigh     2       2    small    med  unacc\n",
       "2  vhigh  vhigh     2       2    small   high  unacc\n",
       "3  vhigh  vhigh     2       2      med    low  unacc\n",
       "4  vhigh  vhigh     2       2      med    med  unacc"
      ]
     },
     "execution_count": 44,
     "metadata": {},
     "output_type": "execute_result"
    }
   ],
   "source": [
    "##Cargar los datos\n",
    "ruta_archivo = '../proyecto2/data/cars_dt1.csv'\n",
    "df = utils.cargar_datos(ruta_archivo)\n",
    "df.head()"
   ]
  },
  {
   "cell_type": "code",
   "execution_count": 45,
   "metadata": {},
   "outputs": [
    {
     "name": "stdout",
     "output_type": "stream",
     "text": [
      "Informacion del dataset\n",
      "<class 'pandas.core.frame.DataFrame'>\n",
      "RangeIndex: 1728 entries, 0 to 1727\n",
      "Data columns (total 7 columns):\n",
      " #   Column    Non-Null Count  Dtype \n",
      "---  ------    --------------  ----- \n",
      " 0   buying    1728 non-null   object\n",
      " 1   maint     1728 non-null   object\n",
      " 2   doors     1728 non-null   object\n",
      " 3   persons   1728 non-null   object\n",
      " 4   lug_boot  1728 non-null   object\n",
      " 5   safety    1728 non-null   object\n",
      " 6   class     1728 non-null   object\n",
      "dtypes: object(7)\n",
      "memory usage: 94.6+ KB\n",
      "None\n",
      "Estadisticas del dataset\n",
      "       buying  maint doors persons lug_boot safety  class\n",
      "count    1728   1728  1728    1728     1728   1728   1728\n",
      "unique      4      4     4       3        3      3      4\n",
      "top     vhigh  vhigh     2       2    small    low  unacc\n",
      "freq      432    432   432     576      576    576   1210\n",
      "Medidas de tendencia central y dispersión para cada variable numérica\n",
      "##No se encontraron columnas numéricas en el DataFrame.##\n"
     ]
    }
   ],
   "source": [
    "##Exploracion incial\n",
    "utils.exploracion_inicial(df)"
   ]
  },
  {
   "cell_type": "markdown",
   "metadata": {},
   "source": [
    "##### Se verifican la informacion del dataset en el cual se ven 7 columnas y 1728 filas sin elementos nulos. Tambien se ven las estadisticas basicas de todos los elementos categoricos en este caso."
   ]
  },
  {
   "cell_type": "code",
   "execution_count": 46,
   "metadata": {},
   "outputs": [
    {
     "name": "stdout",
     "output_type": "stream",
     "text": [
      "Valores faltantes en el dataset\n",
      "          datos sin NAs en q  Na en q  Na en %\n",
      "buying                  1728        0      0.0\n",
      "maint                   1728        0      0.0\n",
      "doors                   1728        0      0.0\n",
      "persons                 1728        0      0.0\n",
      "lug_boot                1728        0      0.0\n",
      "safety                  1728        0      0.0\n",
      "class                   1728        0      0.0\n",
      "Cantidad de filas duplicadas:  0\n"
     ]
    }
   ],
   "source": [
    "na_df = utils.identificar_valores_faltantes(df)\n",
    "print(na_df)\n",
    "utils.verificacion_elementos_duplicados(df)"
   ]
  },
  {
   "cell_type": "markdown",
   "metadata": {},
   "source": [
    "##### No se encuentran valores nulos o duplicados"
   ]
  },
  {
   "cell_type": "code",
   "execution_count": 47,
   "metadata": {},
   "outputs": [
    {
     "name": "stdout",
     "output_type": "stream",
     "text": [
      "Valores únicos en la columna: buying\n",
      "buying\n",
      "vhigh    432\n",
      "high     432\n",
      "med      432\n",
      "low      432\n",
      "Name: count, dtype: int64\n",
      "--------------------------------------------------\n",
      "Valores únicos en la columna: maint\n",
      "maint\n",
      "vhigh    432\n",
      "high     432\n",
      "med      432\n",
      "low      432\n",
      "Name: count, dtype: int64\n",
      "--------------------------------------------------\n",
      "Valores únicos en la columna: doors\n",
      "doors\n",
      "2        432\n",
      "3        432\n",
      "4        432\n",
      "5more    432\n",
      "Name: count, dtype: int64\n",
      "--------------------------------------------------\n",
      "Valores únicos en la columna: persons\n",
      "persons\n",
      "2       576\n",
      "4       576\n",
      "more    576\n",
      "Name: count, dtype: int64\n",
      "--------------------------------------------------\n",
      "Valores únicos en la columna: lug_boot\n",
      "lug_boot\n",
      "small    576\n",
      "med      576\n",
      "big      576\n",
      "Name: count, dtype: int64\n",
      "--------------------------------------------------\n",
      "Valores únicos en la columna: safety\n",
      "safety\n",
      "low     576\n",
      "med     576\n",
      "high    576\n",
      "Name: count, dtype: int64\n",
      "--------------------------------------------------\n",
      "Valores únicos en la columna: class\n",
      "class\n",
      "unacc    1210\n",
      "acc       384\n",
      "good       69\n",
      "vgood      65\n",
      "Name: count, dtype: int64\n",
      "--------------------------------------------------\n",
      "  buying  maint doors persons lug_boot safety  class\n",
      "0  VHIGH  VHIGH     2       2    SMALL    LOW  UNACC\n",
      "1  VHIGH  VHIGH     2       2    SMALL    MED  UNACC\n",
      "2  VHIGH  VHIGH     2       2    SMALL   HIGH  UNACC\n",
      "3  VHIGH  VHIGH     2       2      MED    LOW  UNACC\n",
      "4  VHIGH  VHIGH     2       2      MED    MED  UNACC\n"
     ]
    }
   ],
   "source": [
    "utils.contar_valores_categoricos(df)\n",
    "df = utils.modificar_valores_categoricos(df)\n",
    "print(df.head())"
   ]
  },
  {
   "cell_type": "markdown",
   "metadata": {},
   "source": [
    "##### No se encuentran valores categoricos con inconsistencias, por lo que se procede a pasar los valores a mayuscula y eliminar espacios en en blanco."
   ]
  },
  {
   "cell_type": "code",
   "execution_count": 48,
   "metadata": {},
   "outputs": [
    {
     "data": {
      "text/plain": [
       "buying      object\n",
       "maint       object\n",
       "doors        Int64\n",
       "persons      Int64\n",
       "lug_boot    object\n",
       "safety      object\n",
       "class       object\n",
       "dtype: object"
      ]
     },
     "execution_count": 48,
     "metadata": {},
     "output_type": "execute_result"
    }
   ],
   "source": [
    "### Debido a que los datos de persons y doors son categoricos se procede a modificar los valores por numeros\n",
    "## y cambiar el formato de estas columnas a numeros. 5more se convierte en 5 en doors y 6 para el caso de more en persons\n",
    "df['doors'] = df['doors'].str.replace('5MORE', '5')\n",
    "df['persons'] = df['persons'].str.replace('MORE', '6')\n",
    "df['doors'] = df['doors'].astype('Int64')\n",
    "df['persons'] = df['persons'].astype('Int64')\n",
    "df.dtypes"
   ]
  },
  {
   "cell_type": "code",
   "execution_count": 49,
   "metadata": {},
   "outputs": [
    {
     "data": {
      "image/png": "[encoded data removed]",
      "text/plain": [
       "<Figure size 1000x500 with 2 Axes>"
      ]
     },
     "metadata": {},
     "output_type": "display_data"
    }
   ],
   "source": [
    "num_features = df.select_dtypes(include=['int64', 'float64'])\n",
    "utils.plot_grafico_outliers(num_features,1,2,df)"
   ]
  },
  {
   "cell_type": "markdown",
   "metadata": {},
   "source": [
    "##### No se encuentran valores outliers y ya tampoco se ven datos muy dispersos porque estos datos serian como categoricos."
   ]
  },
  {
   "cell_type": "code",
   "execution_count": 50,
   "metadata": {},
   "outputs": [
    {
     "data": {
      "image/png": "[encoded data removed]",
      "text/plain": [
       "<Figure size 1000x600 with 1 Axes>"
      ]
     },
     "metadata": {},
     "output_type": "display_data"
    }
   ],
   "source": [
    "## Exploracion de datos\n",
    "# Distribucion de la clase\n",
    "plt.figure(figsize=(10, 6))\n",
    "# Crear el histograma y almacenar la salida en una variable\n",
    "hist = sns.histplot(df['class'], kde=True)\n",
    "# Agregar los valores encima de las barras\n",
    "for patch in hist.patches:  # Iterar sobre las barras\n",
    "    x = patch.get_x() + patch.get_width() / 2  # Centro de la barra\n",
    "    y = patch.get_height()  # Altura de la barra\n",
    "    if y > 0:  # Mostrar solo si la frecuencia no es cero\n",
    "        plt.text(x, y, int(y), ha='center', va='bottom', fontsize=10)\n",
    "plt.title('Distribucion de Clases por Evaluacion del vehiculo')\n",
    "plt.xlabel('Evaluacion del vehiculo')\n",
    "plt.ylabel('Frequency')\n",
    "plt.grid()\n",
    "plt.show()"
   ]
  },
  {
   "cell_type": "markdown",
   "metadata": {},
   "source": [
    "##### Se puede observar de que para nuestra clase targuet tipo de evaluacion, UNACC unaceptable es la clase mayoritaria, seguido de Acc aceptable con 364 y las demas VGOOD/GOOD con 65 y 69. Por lo que podemos concluir que es un dataset desbalanceado y se debe manejar como tal para las predicciones"
   ]
  },
  {
   "cell_type": "code",
   "execution_count": 51,
   "metadata": {},
   "outputs": [
    {
     "data": {
      "image/png": "[encoded data removed]",
      "text/plain": [
       "<Figure size 800x600 with 1 Axes>"
      ]
     },
     "metadata": {},
     "output_type": "display_data"
    }
   ],
   "source": [
    "# Crear el countplot\n",
    "plt.figure(figsize=(8, 6))\n",
    "sns.countplot(data=df, x='buying', hue='class')\n",
    "\n",
    "# Personalizar el gráfico\n",
    "plt.xlabel('Buying')\n",
    "plt.ylabel('Count')\n",
    "plt.title('Countplot de Buying vs Class')\n",
    "plt.show()"
   ]
  },
  {
   "cell_type": "markdown",
   "metadata": {},
   "source": [
    "Parte 1: Preprocesamiento de Datos\n",
    "\n",
    "- Limpieza de Datos:\n",
    "    * Tratar los valores nulos utilizando técnicas adecuadas (imputación, eliminación, etc.).\n",
    "    * Manejar los outliers mediante técnicas de filtrado o transformación.\n",
    "- Transformación de Columnas:\n",
    "    * Utilizar ColumnTransformer para aplicar transformaciones específicas a diferentes columnas.\n",
    "    * Realizar codificación de variables categóricas utilizando técnicas como One-Hot Encoding.\n",
    "    * Escalar las variables numéricas usando StandardScaler u otros métodos de normalización.\n",
    "- Creación de Pipelines:\n",
    "    * Crear pipelines utilizando Pipeline de sklearn para automatizar el preprocesamiento de datos y asegurar la reproducibilidad.\n",
    "    * Incluir todos los pasos de preprocesamiento en el pipeline.\n"
   ]
  },
  {
   "cell_type": "code",
   "execution_count": 52,
   "metadata": {},
   "outputs": [],
   "source": [
    "# Definir X e y. Dividir los datos en conjunto de entrenamiento y prueba\n",
    "\n",
    "X = df.drop(['class'], axis=1)\n",
    "y = df['class']\n",
    "\n",
    "X_train, X_test, y_train, y_test = train_test_split(X, y, test_size=0.2, random_state=0)"
   ]
  },
  {
   "cell_type": "code",
   "execution_count": 53,
   "metadata": {},
   "outputs": [
    {
     "name": "stdout",
     "output_type": "stream",
     "text": [
      "Preprocesamiento completado. Datos transformados listos para modelar.\n"
     ]
    }
   ],
   "source": [
    "### No existen valores nulos que deban tratarse pero si valores outliers que seran escalados con RobustScaler ya que se encuentran valores outliers en BMI y charges\n",
    "###Pipeline para preprocesamiento de valores\n",
    "numeric_features = X.select_dtypes(include=['int64', 'float64']).columns.tolist()  # Get column names\n",
    "categorical_features = X.select_dtypes(include=['object']).columns.tolist() # Get column names\n",
    "# Crear transformadores para cada subconjunto de columnas\n",
    "numeric_transformer = Pipeline(steps=[\n",
    "    ('scaler', StandardScaler())\n",
    "])\n",
    "\n",
    "# Crear transformer para columnas categóricas con imputación\n",
    "categorical_transformer = Pipeline(steps=[\n",
    "    ('onehot', OneHotEncoder(handle_unknown='ignore'))  # Codificar categorías\n",
    "])\n",
    "\n",
    "# Combinar transformaciones\n",
    "preprocessor = ColumnTransformer(\n",
    "    transformers=[\n",
    "        ('num', numeric_transformer, numeric_features),\n",
    "        ('cat', categorical_transformer, categorical_features)\n",
    "    ]\n",
    ")\n",
    "\n",
    "# Integrar en un pipeline\n",
    "pipeline = Pipeline(steps=[('preprocessor', preprocessor)])\n",
    "\n",
    "# Crear y aplicar el pipeline a los datos de entrenamiento\n",
    "X_train_transformed = pipeline.fit_transform(X_train)\n",
    "\n",
    "# Aplicar la misma transformación a los datos de prueba (sin hacer fit)\n",
    "X_test_transformed = pipeline.transform(X_test)\n",
    "\n",
    "print(\"Preprocesamiento completado. Datos transformados listos para modelar.\")"
   ]
  },
  {
   "cell_type": "markdown",
   "metadata": {},
   "source": [
    "Parte 2: Selección de Técnica de Machine Learning\n",
    "\n",
    "- Entrenamiento Inicial:\n",
    "    * Entrenar múltiples modelos de machine learning (por ejemplo, Regresión Lineal, KNN, Árbol de Decisión, Random Forest, XGBoost, LGBM).\n",
    "    * Evaluar los modelos utilizando validación cruzada y seleccionar el modelo con el mejor rendimiento inicial.\n",
    "- Comparación de Modelos:\n",
    "    * Comparar los modelos utilizando métricas de rendimiento relevantes (exactitud, precisión, recall, F1-Score, ROC-AUC, etc.).\n",
    "    * Seleccionar la técnica de machine learning más adecuada basándose en las métricas y la naturaleza del problema.\n",
    "\n",
    "\n"
   ]
  },
  {
   "cell_type": "code",
   "execution_count": 54,
   "metadata": {},
   "outputs": [
    {
     "name": "stdout",
     "output_type": "stream",
     "text": [
      "Logistic Regression: Mean Accuracy = 0.8408, Std = 0.0184\n",
      "K-Nearest Neighbors: Mean Accuracy = 0.9154, Std = 0.0145\n",
      "Decision Tree: Mean Accuracy = 0.9740, Std = 0.0132\n",
      "\n",
      "Resumen de Validación Cruzada:\n",
      "                       Fold 1    Fold 2    Fold 3    Fold 4    Fold 5  \\\n",
      "Logistic Regression  0.862816  0.812274  0.833333  0.858696  0.836957   \n",
      "K-Nearest Neighbors  0.924188  0.891697  0.916667  0.934783  0.909420   \n",
      "Decision Tree        0.978339  0.956679  0.971014  0.996377  0.967391   \n",
      "\n",
      "                     Mean Accuracy   Std Dev  \n",
      "Logistic Regression       0.840815  0.018380  \n",
      "K-Nearest Neighbors       0.915351  0.014506  \n",
      "Decision Tree             0.973960  0.013207  \n"
     ]
    }
   ],
   "source": [
    "# Definir los modelos\n",
    "models = {\n",
    "    'Logistic Regression': LogisticRegression(max_iter=1000, random_state=42),\n",
    "    'K-Nearest Neighbors': KNeighborsClassifier(n_neighbors=5),\n",
    "    'Decision Tree': DecisionTreeClassifier(random_state=42)\n",
    "}\n",
    "\n",
    "# Evaluación con validación cruzada\n",
    "cv_results = {}\n",
    "for model_name, model in models.items():\n",
    "    # Validación cruzada con scoring de 'accuracy'\n",
    "    scores = cross_val_score(model, X_train_transformed , y_train, cv=5, scoring='accuracy')\n",
    "    cv_results[model_name] = scores\n",
    "    print(f\"{model_name}: Mean Accuracy = {scores.mean():.4f}, Std = {scores.std():.4f}\")\n",
    "\n",
    "# Comparar los resultados\n",
    "import pandas as pd\n",
    "cv_summary = pd.DataFrame(cv_results).T\n",
    "cv_summary.columns = [f'Fold {i+1}' for i in range(cv_summary.shape[1])]\n",
    "cv_summary['Mean Accuracy'] = cv_summary.mean(axis=1)\n",
    "cv_summary['Std Dev'] = cv_summary.std(axis=1)\n",
    "print(\"\\nResumen de Validación Cruzada:\")\n",
    "print(cv_summary)\n"
   ]
  },
  {
   "cell_type": "markdown",
   "metadata": {},
   "source": [
    "Parte 3: Optimización de Hiperparámetros\n",
    "\n",
    "- GridSearchCV:\n",
    "    * Implementar GridSearchCV para realizar una búsqueda exhaustiva de los mejores hiperparámetros para el modelo seleccionado.\n",
    "    * Definir el espacio de búsqueda para los hiperparámetros relevantes.\n",
    "- RandomizedSearchCV:\n",
    "    * Implementar RandomizedSearchCV para realizar una búsqueda aleatoria de los mejores hiperparámetros, especialmente útil si el espacio de búsqueda es grande.\n",
    "- Optuna:\n",
    "    * Implementar Optuna para una optimización avanzada de los hiperparámetros, aprovechando técnicas como la optimización bayesiana y el pruning.\n",
    "    Evaluación de Modelos Optimizados:\n",
    "    * Entrenar el modelo con los mejores hiperparámetros encontrados y evaluar su rendimiento en el conjunto de prueba.\n",
    "    * Comparar el rendimiento del modelo optimizado con el modelo inicial.\n"
   ]
  },
  {
   "cell_type": "code",
   "execution_count": 55,
   "metadata": {},
   "outputs": [],
   "source": [
    "##Gridsearch\n",
    "# Espacio de búsqueda para cada modelo\n",
    "param_grid_lr = {\n",
    "    'C': [0.1, 1, 10, 100],\n",
    "    'solver': ['lbfgs', 'liblinear'],\n",
    "    'max_iter': [100, 200, 500]\n",
    "}\n",
    "\n",
    "param_grid_knn = {\n",
    "    'n_neighbors': [3, 5, 7, 9],\n",
    "    'weights': ['uniform', 'distance'],\n",
    "    'metric': ['euclidean', 'manhattan']\n",
    "}\n",
    "\n",
    "param_grid_dt = {\n",
    "    'max_depth': [1, 3, 5, None],\n",
    "    'min_samples_split': [2, 5, 10],\n",
    "    'min_samples_leaf': [1, 2, 4],\n",
    "    'criterion': ['gini', 'entropy']\n",
    "}\n"
   ]
  },
  {
   "cell_type": "code",
   "execution_count": 56,
   "metadata": {},
   "outputs": [
    {
     "name": "stderr",
     "output_type": "stream",
     "text": [
      "c:\\Users\\ENRIF\\anaconda3\\envs\\bootcamp_coding_dojo\\Lib\\site-packages\\sklearn\\model_selection\\_search.py:1103: UserWarning: One or more of the test scores are non-finite: [0.91462879 0.92041804 0.91533511 0.92112698 0.9153325  0.92257102\n",
      " 0.92256841 0.92907184        nan 0.93633391        nan 0.93705855\n",
      "        nan 0.93921153        nan 0.94645529]\n",
      "  warnings.warn(\n"
     ]
    },
    {
     "name": "stdout",
     "output_type": "stream",
     "text": [
      "Resultados de GridSearchCV:\n",
      "                                                          Best Params  \\\n",
      "LogisticRegression     {'C': 100, 'max_iter': 100, 'solver': 'lbfgs'}   \n",
      "KNN                 {'metric': 'manhattan', 'n_neighbors': 9, 'wei...   \n",
      "DecisionTree        {'criterion': 'entropy', 'max_depth': None, 'm...   \n",
      "\n",
      "                   Best Score  \n",
      "LogisticRegression   0.857453  \n",
      "KNN                  0.946455  \n",
      "DecisionTree         0.977562  \n"
     ]
    }
   ],
   "source": [
    "# Crear los modelos base\n",
    "models = {\n",
    "    'LogisticRegression': (LogisticRegression(random_state=42), param_grid_lr),\n",
    "    'KNN': (KNeighborsClassifier(), param_grid_knn),\n",
    "    'DecisionTree': (DecisionTreeClassifier(random_state=42), param_grid_dt)\n",
    "}\n",
    "\n",
    "# Realizar GridSearchCV para cada modelo\n",
    "grid_results = {}\n",
    "for name, (model, param_grid) in models.items():\n",
    "    grid_search = GridSearchCV(estimator=model, param_grid=param_grid, cv=5, scoring='accuracy', n_jobs=-1)\n",
    "    grid_search.fit(X_train_transformed, y_train)\n",
    "    grid_results[name] = {\n",
    "        'Best Params': grid_search.best_params_,\n",
    "        'Best Score': grid_search.best_score_\n",
    "    }\n",
    "\n",
    "# Mostrar los resultados de GridSearchCV\n",
    "import pandas as pd\n",
    "grid_summary = pd.DataFrame(grid_results).T\n",
    "print(\"Resultados de GridSearchCV:\")\n",
    "print(grid_summary)\n"
   ]
  },
  {
   "cell_type": "code",
   "execution_count": 57,
   "metadata": {},
   "outputs": [
    {
     "name": "stderr",
     "output_type": "stream",
     "text": [
      "c:\\Users\\ENRIF\\anaconda3\\envs\\bootcamp_coding_dojo\\Lib\\site-packages\\sklearn\\model_selection\\_search.py:1103: UserWarning: One or more of the test scores are non-finite: [0.90954063 0.92112698 0.9153325         nan 0.92112698 0.92691624\n",
      " 0.93705855 0.9247554  0.95079527        nan 0.92691624 0.93921153\n",
      " 0.91462879 0.92907184 0.94355674 0.94645529 0.94645529 0.90954063\n",
      "        nan 0.91533511 0.91462879        nan 0.95079527 0.93633391\n",
      " 0.9247554  0.94645529 0.90954063        nan 0.93633391 0.94355674\n",
      " 0.95079527 0.94355674 0.92907184 0.94355674 0.95079527 0.94645529\n",
      " 0.90954063 0.93633391 0.93921153 0.89435724 0.89435724 0.94355674\n",
      " 0.91462879 0.9153325  0.92256841 0.93633391        nan 0.92041804\n",
      " 0.91533511 0.92257102]\n",
      "  warnings.warn(\n"
     ]
    },
    {
     "name": "stdout",
     "output_type": "stream",
     "text": [
      "                                                          Best Params  \\\n",
      "LogisticRegression      {'C': 72, 'max_iter': 288, 'solver': 'lbfgs'}   \n",
      "KNN                 {'metric': 'manhattan', 'n_neighbors': 8, 'wei...   \n",
      "DecisionTree        {'criterion': 'gini', 'max_depth': 10, 'min_sa...   \n",
      "\n",
      "                   Best Score  \n",
      "LogisticRegression   0.857453  \n",
      "KNN                  0.950795  \n",
      "DecisionTree         0.971069  \n"
     ]
    }
   ],
   "source": [
    "###RandomizerSearch\n",
    "# Espacio de búsqueda para RandomizedSearchCV\n",
    "random_grid_lr = {\n",
    "    'C': randint(1, 100),\n",
    "    'solver': ['lbfgs', 'liblinear'],\n",
    "    'max_iter': randint(100, 500)\n",
    "}\n",
    "\n",
    "random_grid_knn = {\n",
    "    'n_neighbors': randint(3, 10),\n",
    "    'weights': ['uniform', 'distance'],\n",
    "    'metric': ['euclidean', 'manhattan']\n",
    "}\n",
    "\n",
    "random_grid_dt = {\n",
    "    'max_depth': [3, 5, 10, None],\n",
    "    'min_samples_split': randint(2, 15),\n",
    "    'min_samples_leaf': randint(1, 10),\n",
    "    'criterion': ['gini', 'entropy']\n",
    "}\n",
    "\n",
    "# Asociar los modelos con sus espacios de parámetros para RandomizedSearchCV\n",
    "random_models = {\n",
    "    'LogisticRegression': (LogisticRegression(random_state=42), random_grid_lr),\n",
    "    'KNN': (KNeighborsClassifier(), random_grid_knn),\n",
    "    'DecisionTree': (DecisionTreeClassifier(random_state=42), random_grid_dt)\n",
    "}\n",
    "\n",
    "# Realizar RandomizedSearchCV para cada modelo\n",
    "random_results = {}\n",
    "for name, (model, random_grid) in random_models.items():\n",
    "    random_search = RandomizedSearchCV(estimator=model, param_distributions=random_grid, n_iter=50, \n",
    "                                    cv=5, scoring='accuracy', random_state=42, n_jobs=-1)\n",
    "    random_search.fit(X_train_transformed, y_train)\n",
    "    random_results[name] = random_search\n",
    "\n",
    "# Crear DataFrame con los mejores resultados\n",
    "results_data = {\n",
    "    name: {\n",
    "        'Best Params': random_search.best_params_,\n",
    "        'Best Score': random_search.best_score_\n",
    "    }\n",
    "    for name, random_search in random_results.items()\n",
    "}\n",
    "\n",
    "results_df = pd.DataFrame(results_data).T\n",
    "print(results_df)\n"
   ]
  },
  {
   "cell_type": "code",
   "execution_count": 58,
   "metadata": {},
   "outputs": [
    {
     "name": "stdout",
     "output_type": "stream",
     "text": [
      "Comparación de GridSearchCV y RandomizedSearchCV:\n",
      "                   GridSearchCV RandomizedSearchCV\n",
      "LogisticRegression     0.857453           0.857453\n",
      "KNN                    0.946455           0.950795\n",
      "DecisionTree           0.977562           0.971069\n"
     ]
    }
   ],
   "source": [
    "###Comparar resultados\n",
    "comparison = pd.concat([grid_summary['Best Score'], results_df['Best Score']], axis=1)\n",
    "comparison.columns = ['GridSearchCV', 'RandomizedSearchCV']\n",
    "print(\"Comparación de GridSearchCV y RandomizedSearchCV:\")\n",
    "print(comparison)"
   ]
  },
  {
   "cell_type": "markdown",
   "metadata": {},
   "source": [
    "##### DecisionTree se ve como la mejor opcion para este problema de clasificacion"
   ]
  },
  {
   "cell_type": "code",
   "execution_count": 59,
   "metadata": {},
   "outputs": [
    {
     "name": "stdout",
     "output_type": "stream",
     "text": [
      "Evaluación de Modelos:\n",
      "                    Accuracy  Precision    Recall  F1-Score   ROC-AUC\n",
      "LogisticRegression  0.835260   0.768771  0.759453  0.759307  0.960152\n",
      "KNN                 0.947977   0.880963  0.892947  0.884681  0.992254\n",
      "DecisionTree        0.968208   0.920560  0.954845  0.935429  0.994205\n"
     ]
    }
   ],
   "source": [
    "# Obtener los mejores modelos de RandomizedSearchCV\n",
    "optimized_lr = random_results['LogisticRegression'].best_estimator_\n",
    "optimized_knn = random_results['KNN'].best_estimator_\n",
    "optimized_dt = random_results['DecisionTree'].best_estimator_\n",
    "\n",
    "# Supongamos que ya tenemos los mejores modelos optimizados\n",
    "best_models = {\n",
    "    'LogisticRegression': optimized_lr,  # modelo entrenado\n",
    "    'KNN': optimized_knn,                # modelo entrenado\n",
    "    'DecisionTree': optimized_dt         # modelo entrenado\n",
    "}\n",
    "\n",
    "\n",
    "# Evaluación y almacenamiento de métricas\n",
    "evaluation_results = {}\n",
    "\n",
    "for name, model in best_models.items():\n",
    "    y_pred = model.predict(X_test_transformed)\n",
    "    y_pred_proba = model.predict_proba(X_test_transformed) if hasattr(model, \"predict_proba\") else None\n",
    "\n",
    "    # Calcular métricas\n",
    "    accuracy = accuracy_score(y_test, y_pred)\n",
    "    precision = precision_score(y_test, y_pred, average='macro')  # 'macro' para multiclase\n",
    "    recall = recall_score(y_test, y_pred, average='macro')        # 'macro' para multiclase\n",
    "    f1 = f1_score(y_test, y_pred, average='macro')                # 'macro' para multiclase\n",
    "\n",
    "    # Calcular ROC-AUC si aplica\n",
    "    if y_pred_proba is not None:\n",
    "        if y_pred_proba.ndim == 2:  # Salida bidimensional para multiclase\n",
    "            roc_auc = roc_auc_score(y_test, y_pred_proba, multi_class='ovr')  # O 'ovo'\n",
    "        else:\n",
    "            roc_auc = \"N/A\"  # No se puede calcular ROC-AUC con una dimensión\n",
    "    else:\n",
    "        roc_auc = \"N/A\"\n",
    "\n",
    "    # Almacenar resultados\n",
    "    evaluation_results[name] = {\n",
    "        'Accuracy': accuracy,\n",
    "        'Precision': precision,\n",
    "        'Recall': recall,\n",
    "        'F1-Score': f1,\n",
    "        'ROC-AUC': roc_auc\n",
    "    }\n",
    "\n",
    "# Convertir resultados a DataFrame para análisis\n",
    "import pandas as pd\n",
    "evaluation_df = pd.DataFrame(evaluation_results).T\n",
    "print(\"Evaluación de Modelos:\")\n",
    "print(evaluation_df)\n"
   ]
  },
  {
   "cell_type": "markdown",
   "metadata": {},
   "source": [
    "### Decision tree se ve como la mejor opcion de modelo para este caso"
   ]
  }
 ],
 "metadata": {
  "kernelspec": {
   "display_name": "bootcamp_coding_dojo",
   "language": "python",
   "name": "python3"
  },
  "language_info": {
   "codemirror_mode": {
    "name": "ipython",
    "version": 3
   },
   "file_extension": ".py",
   "mimetype": "text/x-python",
   "name": "python",
   "nbconvert_exporter": "python",
   "pygments_lexer": "ipython3",
   "version": "3.12.7"
  }
 },
 "nbformat": 4,
 "nbformat_minor": 2
}
