{
 "cells": [
  {
   "cell_type": "code",
   "execution_count": 2,
   "metadata": {},
   "outputs": [
    {
     "name": "stdout",
     "output_type": "stream",
     "text": [
      "Datos originales:\n",
      "   A    B    C\n",
      "0  1  2.0  NaN\n",
      "1  3  NaN  6.0\n",
      "2  7  8.0  9.0\n",
      "nDatos imputados:\n",
      "     A    B    C\n",
      "0  1.0  2.0  7.5\n",
      "1  3.0  5.0  6.0\n",
      "2  7.0  8.0  9.0\n"
     ]
    }
   ],
   "source": [
    "from sklearn.impute import SimpleImputer\n",
    "import pandas as pd\n",
    "\n",
    "# Datos con valores faltantes\n",
    "X = pd.DataFrame({\n",
    "    'A': [1, 3, 7],\n",
    "    'B': [2, None, 8],\n",
    "    'C': [None, 6, 9]\n",
    "})\n",
    "\n",
    "print(\"Datos originales:\")\n",
    "print(X)\n",
    "\n",
    "# Crear un imputador con la estrategia de la media\n",
    "imputer = SimpleImputer(strategy='mean')\n",
    "\n",
    "# Ajustar y transformar los datos\n",
    "X_imputed = imputer.fit_transform(X)\n",
    "\n",
    "# Convertir el resultado a un DataFrame de pandas\n",
    "X_imputed_df = pd.DataFrame(X_imputed, columns=X.columns)\n",
    "\n",
    "print(\"nDatos imputados:\")\n",
    "print(X_imputed_df)\n",
    "\n"
   ]
  },
  {
   "cell_type": "code",
   "execution_count": 3,
   "metadata": {},
   "outputs": [
    {
     "name": "stdout",
     "output_type": "stream",
     "text": [
      "[[0. 1. 0.]\n",
      " [0. 0. 1.]\n",
      " [1. 0. 0.]\n",
      " [0. 0. 1.]\n",
      " [0. 1. 0.]]\n"
     ]
    }
   ],
   "source": [
    "from sklearn.preprocessing import OneHotEncoder\n",
    "\n",
    "# Datos categóricos\n",
    "X = [['rojo'], ['verde'], ['azul'], ['verde'], ['rojo']]\n",
    "\n",
    "# Crear un codificador One-Hot\n",
    "encoder = OneHotEncoder()\n",
    "\n",
    "# Ajustar y transformar los datos\n",
    "X_encoded = encoder.fit_transform(X)\n",
    "\n",
    "print(X_encoded.toarray())"
   ]
  },
  {
   "cell_type": "code",
   "execution_count": 4,
   "metadata": {},
   "outputs": [
    {
     "name": "stdout",
     "output_type": "stream",
     "text": [
      "[1 2 0 2 1]\n"
     ]
    }
   ],
   "source": [
    "from sklearn.preprocessing import LabelEncoder\n",
    "\n",
    "# Datos categóricos\n",
    "y = ['rojo', 'verde', 'azul', 'verde', 'rojo']\n",
    "\n",
    "# Crear un codificador de etiquetas\n",
    "encoder = LabelEncoder()\n",
    "\n",
    "# Ajustar y transformar los datos\n",
    "y_encoded = encoder.fit_transform(y)\n",
    "\n",
    "print(y_encoded)\n"
   ]
  },
  {
   "cell_type": "code",
   "execution_count": null,
   "metadata": {},
   "outputs": [],
   "source": [
    "from sklearn.datasets import fetch_openml\n",
    "from sklearn.impute import SimpleImputer\n",
    "from sklearn.preprocessing import OneHotEncoder, LabelEncoder\n",
    "from sklearn.model_selection import train_test_split\n",
    "from sklearn.tree import DecisionTreeClassifier\n",
    "from sklearn.metrics import accuracy_score\n",
    "\n",
    "# Cargar el conjunto de datos\n",
    "X, y = fetch_openml('tic-tac-toe', version=1, return_X_y=True)\n",
    "\n",
    "# Dividir los datos en conjuntos de entrenamiento y prueba\n",
    "X_train, X_test, y_train, y_test = train_test_split(X, y, test_size=0.2, random_state=42)\n",
    "\n",
    "# Crear un imputador para manejar valores faltantes\n",
    "imputer = SimpleImputer(strategy='most_frequent')\n",
    "\n",
    "# Crear un codificador One-Hot para variables categóricas\n",
    "encoder = OneHotEncoder()\n",
    "\n",
    "# Preprocesar los datos de entrenamiento\n",
    "X_train_imputed = imputer.fit_transform(X_train)\n",
    "X_train_encoded = encoder.fit_transform(X_train_imputed)\n",
    "\n",
    "# Preprocesar los datos de prueba\n",
    "X_test_imputed = imputer.transform(X_test)\n",
    "X_test_encoded = encoder.transform(X_test_imputed)\n",
    "\n",
    "# Codificar las etiquetas de destino\n",
    "label_encoder = LabelEncoder()\n",
    "y_train_encoded = label_encoder.fit_transform(y_train)\n",
    "y_test_encoded = label_encoder.transform(y_test)\n",
    "\n",
    "# Crear y entrenar un clasificador de árboles de decisión\n",
    "classifier = DecisionTreeClassifier()\n",
    "classifier.fit(X_train_encoded, y_train_encoded)\n",
    "\n",
    "# Hacer predicciones en el conjunto de prueba\n",
    "y_pred = classifier.predict(X_test_encoded)\n",
    "\n",
    "# Calcular la precisión del modelo\n",
    "accuracy = accuracy_score(y_test_encoded, y_pred)\n",
    "print(f\"Precisión del modelo: {accuracy}\")\n",
    "\n"
   ]
  }
 ],
 "metadata": {
  "kernelspec": {
   "display_name": "bootcamp_coding_dojo",
   "language": "python",
   "name": "python3"
  },
  "language_info": {
   "codemirror_mode": {
    "name": "ipython",
    "version": 3
   },
   "file_extension": ".py",
   "mimetype": "text/x-python",
   "name": "python",
   "nbconvert_exporter": "python",
   "pygments_lexer": "ipython3",
   "version": "3.12.7"
  }
 },
 "nbformat": 4,
 "nbformat_minor": 2
}
