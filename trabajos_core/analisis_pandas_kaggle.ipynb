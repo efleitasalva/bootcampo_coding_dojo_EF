{
 "cells": [
  {
   "cell_type": "markdown",
   "metadata": {},
   "source": [
    "Preparación del Entorno\n",
    "\n",
    "* Asegúrate de tener instalado Pandas en tu entorno de trabajo.\n",
    "* Descarga el archivo dataset.csv desde Kaggle. Elige un dataset que te interese y que no incluya visualización de datos. Algunas sugerencias pueden ser datasets relacionados con ventas, compras, productos, etc.\n",
    "\n",
    "Cargar los Datos\n",
    "\n",
    "* Carga el archivo CSV en un DataFrame de Pandas.\n",
    "* Muestra las primeras 10 filas del DataFrame para confirmar que los datos se han cargado correctamente.\n",
    "\n",
    "\n"
   ]
  },
  {
   "cell_type": "code",
   "execution_count": 1,
   "metadata": {},
   "outputs": [
    {
     "name": "stdout",
     "output_type": "stream",
     "text": [
      "Primeras filas del DataFrame:\n",
      "         date                 datetime cash_type                 card  money  \\\n",
      "0  2024-03-01  2024-03-01 10:15:50.520      card  ANON-0000-0000-0001   38.7   \n",
      "1  2024-03-01  2024-03-01 12:19:22.539      card  ANON-0000-0000-0002   38.7   \n",
      "2  2024-03-01  2024-03-01 12:20:18.089      card  ANON-0000-0000-0002   38.7   \n",
      "3  2024-03-01  2024-03-01 13:46:33.006      card  ANON-0000-0000-0003   28.9   \n",
      "4  2024-03-01  2024-03-01 13:48:14.626      card  ANON-0000-0000-0004   38.7   \n",
      "5  2024-03-01  2024-03-01 15:39:47.726      card  ANON-0000-0000-0005   33.8   \n",
      "6  2024-03-01  2024-03-01 16:19:02.756      card  ANON-0000-0000-0006   38.7   \n",
      "7  2024-03-01  2024-03-01 18:39:03.580      card  ANON-0000-0000-0007   33.8   \n",
      "8  2024-03-01  2024-03-01 19:22:01.762      card  ANON-0000-0000-0008   38.7   \n",
      "9  2024-03-01  2024-03-01 19:23:15.887      card  ANON-0000-0000-0008   33.8   \n",
      "\n",
      "           coffee_name  \n",
      "0                Latte  \n",
      "1        Hot Chocolate  \n",
      "2        Hot Chocolate  \n",
      "3            Americano  \n",
      "4                Latte  \n",
      "5  Americano with Milk  \n",
      "6        Hot Chocolate  \n",
      "7  Americano with Milk  \n",
      "8                Cocoa  \n",
      "9  Americano with Milk  \n"
     ]
    },
    {
     "data": {
      "text/plain": [
       "(2026, 6)"
      ]
     },
     "execution_count": 1,
     "metadata": {},
     "output_type": "execute_result"
    }
   ],
   "source": [
    "import pandas as pd\n",
    "\n",
    "# Cargar datos desde un archivo CSV\n",
    "df_ruta = '../trabajos_core/data/coffee_sales.csv' #definir la ruta del archivo\n",
    "\n",
    "df = pd.read_csv(df_ruta) #transformar csv a dataframe\n",
    "\n",
    "# Ver las primeras y últimas filas del DataFrame\n",
    "print(\"Primeras filas del DataFrame:\")\n",
    "print(df.head(10))\n",
    "df.shape"
   ]
  },
  {
   "cell_type": "markdown",
   "metadata": {},
   "source": [
    "Exploración Inicial de los Datos\n",
    "\n",
    "* Muestra las últimas 5 filas del DataFrame.\n",
    "* Utiliza el método info() para obtener información general sobre el DataFrame, incluyendo el número de entradas, nombres de las columnas, tipos de datos y memoria utilizada.\n",
    "* Genera estadísticas descriptivas del DataFrame utilizando el método describe().\n"
   ]
  },
  {
   "cell_type": "code",
   "execution_count": 2,
   "metadata": {},
   "outputs": [
    {
     "name": "stdout",
     "output_type": "stream",
     "text": [
      "nÚltimas 5 filas del DataFrame:\n",
      "            date                 datetime cash_type                 card  \\\n",
      "2021  2024-10-20  2024-10-20 21:14:18.045      card  ANON-0000-0000-0789   \n",
      "2022  2024-10-20  2024-10-20 21:15:17.780      card  ANON-0000-0000-0790   \n",
      "2023  2024-10-20  2024-10-20 21:17:26.865      card  ANON-0000-0000-0791   \n",
      "2024  2024-10-20  2024-10-20 21:25:00.085      card  ANON-0000-0000-0792   \n",
      "2025  2024-10-20  2024-10-20 22:17:29.041      card  ANON-0000-0000-0550   \n",
      "\n",
      "      money    coffee_name  \n",
      "2021  35.76  Hot Chocolate  \n",
      "2022  25.96        Cortado  \n",
      "2023  35.76          Cocoa  \n",
      "2024  35.76          Latte  \n",
      "2025  35.76     Cappuccino  \n",
      "nInformación del DataFrame:\n",
      "<class 'pandas.core.frame.DataFrame'>\n",
      "RangeIndex: 2026 entries, 0 to 2025\n",
      "Data columns (total 6 columns):\n",
      " #   Column       Non-Null Count  Dtype  \n",
      "---  ------       --------------  -----  \n",
      " 0   date         2026 non-null   object \n",
      " 1   datetime     2026 non-null   object \n",
      " 2   cash_type    2026 non-null   object \n",
      " 3   card         1937 non-null   object \n",
      " 4   money        2026 non-null   float64\n",
      " 5   coffee_name  2026 non-null   object \n",
      "dtypes: float64(1), object(5)\n",
      "memory usage: 95.1+ KB\n",
      "None\n",
      "nEstadísticas descriptivas del DataFrame:\n",
      "             money\n",
      "count  2026.000000\n",
      "mean     31.670424\n",
      "std       5.212254\n",
      "min      18.120000\n",
      "25%      27.920000\n",
      "50%      32.820000\n",
      "75%      35.760000\n",
      "max      40.000000\n"
     ]
    }
   ],
   "source": [
    "##Imprime ultimas 5 filas\n",
    "print(\"nÚltimas 5 filas del DataFrame:\")\n",
    "print(df.tail(5))\n",
    "##Imprime informacion del dataframe\n",
    "print(\"nInformación del DataFrame:\")\n",
    "print(df.info())\n",
    "## Imprime estadistica descriptiva del DF\n",
    "print(\"nEstadísticas descriptivas del DataFrame:\")\n",
    "print(df.describe())"
   ]
  },
  {
   "cell_type": "markdown",
   "metadata": {},
   "source": [
    "Limpieza de Datos\n",
    "\n",
    "* Identifica y maneja los datos faltantes utilizando técnicas apropiadas (relleno con valores estadísticos, interpolación, eliminación, etc.).\n",
    "* Corrige los tipos de datos si es necesario (por ejemplo, convertir cadenas a fechas).\n",
    "* Elimina duplicados si los hay.\n",
    "\n"
   ]
  },
  {
   "cell_type": "code",
   "execution_count": 3,
   "metadata": {},
   "outputs": [
    {
     "name": "stdout",
     "output_type": "stream",
     "text": [
      "date            0\n",
      "datetime        0\n",
      "cash_type       0\n",
      "card           89\n",
      "money           0\n",
      "coffee_name     0\n",
      "dtype: int64\n"
     ]
    },
    {
     "data": {
      "text/html": [
       "<div>\n",
       "<style scoped>\n",
       "    .dataframe tbody tr th:only-of-type {\n",
       "        vertical-align: middle;\n",
       "    }\n",
       "\n",
       "    .dataframe tbody tr th {\n",
       "        vertical-align: top;\n",
       "    }\n",
       "\n",
       "    .dataframe thead th {\n",
       "        text-align: right;\n",
       "    }\n",
       "</style>\n",
       "<table border=\"1\" class=\"dataframe\">\n",
       "  <thead>\n",
       "    <tr style=\"text-align: right;\">\n",
       "      <th></th>\n",
       "      <th>datos sin NAs en q</th>\n",
       "      <th>Na en q</th>\n",
       "      <th>Na en %</th>\n",
       "    </tr>\n",
       "  </thead>\n",
       "  <tbody>\n",
       "    <tr>\n",
       "      <th>date</th>\n",
       "      <td>2026</td>\n",
       "      <td>0</td>\n",
       "      <td>0.0</td>\n",
       "    </tr>\n",
       "    <tr>\n",
       "      <th>datetime</th>\n",
       "      <td>2026</td>\n",
       "      <td>0</td>\n",
       "      <td>0.0</td>\n",
       "    </tr>\n",
       "    <tr>\n",
       "      <th>cash_type</th>\n",
       "      <td>2026</td>\n",
       "      <td>0</td>\n",
       "      <td>0.0</td>\n",
       "    </tr>\n",
       "    <tr>\n",
       "      <th>card</th>\n",
       "      <td>2026</td>\n",
       "      <td>0</td>\n",
       "      <td>0.0</td>\n",
       "    </tr>\n",
       "    <tr>\n",
       "      <th>money</th>\n",
       "      <td>2026</td>\n",
       "      <td>0</td>\n",
       "      <td>0.0</td>\n",
       "    </tr>\n",
       "    <tr>\n",
       "      <th>coffee_name</th>\n",
       "      <td>2026</td>\n",
       "      <td>0</td>\n",
       "      <td>0.0</td>\n",
       "    </tr>\n",
       "  </tbody>\n",
       "</table>\n",
       "</div>"
      ],
      "text/plain": [
       "             datos sin NAs en q  Na en q  Na en %\n",
       "date                       2026        0      0.0\n",
       "datetime                   2026        0      0.0\n",
       "cash_type                  2026        0      0.0\n",
       "card                       2026        0      0.0\n",
       "money                      2026        0      0.0\n",
       "coffee_name                2026        0      0.0"
      ]
     },
     "execution_count": 3,
     "metadata": {},
     "output_type": "execute_result"
    }
   ],
   "source": [
    "##identificar columnas con null\n",
    "nulos_por_columna = df.isnull().sum()\n",
    "print(nulos_por_columna)\n",
    "\n",
    "##Se crea metodo para asignar valores por tipo de datos en todos los casos.\n",
    "def manejar_nulos(datos):\n",
    "    for column in datos.columns:\n",
    "        if datos[column].dtype == 'object':\n",
    "            datos[column] = datos[column].fillna('Desconocido')\n",
    "        elif datos[column].dtype in ['int64', 'float']:\n",
    "            datos[column].fillna(datos[column].interpolate())\n",
    "\n",
    "manejar_nulos(df)\n",
    "\n",
    "##Imprimir si existen valores nulos por columna\n",
    "# Esto permite determinar cuántos valores en cada columna tienen datos cargados\n",
    "qsna = df.shape[0] - df.isnull().sum(axis=0)\n",
    "\n",
    "# Calcula la cantidad de valores nulos en cada columna del DataFrame\n",
    "qna = df.isnull().sum(axis=0)\n",
    "\n",
    "# Calcula el porcentaje de valores nulos en cada columna y redondea a 2 decimales\n",
    "ppna = round(100 * (df.isnull().sum(axis=0) / df.shape[0]), 2)\n",
    "\n",
    "# Crea un diccionario auxiliar con la cantidad de datos sin nulos, cantidad de nulos y porcentaje de nulos\n",
    "aux = {'datos sin NAs en q': qsna, 'Na en q': qna, 'Na en %': ppna}\n",
    "\n",
    "# Convierte el diccionario en un DataFrame\n",
    "na = pd.DataFrame(data=aux)\n",
    "\n",
    "# Ordena el DataFrame por el porcentaje de valores nulos en orden descendente\n",
    "na.sort_values(by='Na en %', ascending=False)\n"
   ]
  },
  {
   "cell_type": "code",
   "execution_count": 9,
   "metadata": {},
   "outputs": [
    {
     "name": "stdout",
     "output_type": "stream",
     "text": [
      "<class 'pandas.core.frame.DataFrame'>\n",
      "RangeIndex: 2026 entries, 0 to 2025\n",
      "Data columns (total 11 columns):\n",
      " #   Column             Non-Null Count  Dtype         \n",
      "---  ------             --------------  -----         \n",
      " 0   date               2026 non-null   object        \n",
      " 1   datetime           2026 non-null   datetime64[ns]\n",
      " 2   cash_type          2026 non-null   object        \n",
      " 3   card               2026 non-null   object        \n",
      " 4   money              2026 non-null   float64       \n",
      " 5   coffee_name        2026 non-null   object        \n",
      " 6   Aumento_10%        2026 non-null   float64       \n",
      " 7   Aumento_50%        2026 non-null   float64       \n",
      " 8   7%                 2026 non-null   float64       \n",
      " 9   money_normalizado  2026 non-null   float64       \n",
      " 10  Clasificacion      2026 non-null   object        \n",
      "dtypes: datetime64[ns](1), float64(5), object(5)\n",
      "memory usage: 174.2+ KB\n"
     ]
    },
    {
     "data": {
      "text/plain": [
       "date                         object\n",
       "datetime             datetime64[ns]\n",
       "cash_type                    object\n",
       "card                         object\n",
       "money                       float64\n",
       "coffee_name                  object\n",
       "Aumento_10%                 float64\n",
       "Aumento_50%                 float64\n",
       "7%                          float64\n",
       "money_normalizado           float64\n",
       "Clasificacion                object\n",
       "dtype: object"
      ]
     },
     "execution_count": 9,
     "metadata": {},
     "output_type": "execute_result"
    }
   ],
   "source": [
    "##Verificacion y ajustes de tipos de datos\n",
    "df.info()\n",
    "\n",
    "##Modificar el tipo de dato\n",
    "df['date'] = pd.to_datetime(df['date']).dt.date ##esto solo extrae la fecha no hora\n",
    "df['datetime'] = pd.to_datetime(df['datetime'])## mantiene en datetime\n",
    "#Usando Dic para modificar el tipo de datos. Sacado de sitio web https://www.geeksforgeeks.org/change-data-type-for-one-or-more-columns-in-pandas-dataframe/\n",
    "convert_dict = {'cash_type': str,\n",
    "                'card': str,\n",
    "                'coffee_name':str,\n",
    "                'money':float\n",
    "                }\n",
    "df = df.astype(convert_dict)\n",
    "df.dtypes"
   ]
  },
  {
   "cell_type": "code",
   "execution_count": 10,
   "metadata": {},
   "outputs": [
    {
     "name": "stdout",
     "output_type": "stream",
     "text": [
      "elementos duplicados:  0\n"
     ]
    }
   ],
   "source": [
    "#Deteccion de valores duplicados\n",
    "print(\"elementos duplicados: \", df.duplicated().sum())\n",
    "\n",
    "###No se detectaron elementos duplicados, sin embargo si ubiera alguno\n",
    "df.drop_duplicates(inplace = True) ## eliminacion de filas duplicadas en filas con afectacion directa al dataframe"
   ]
  },
  {
   "cell_type": "markdown",
   "metadata": {},
   "source": [
    "Transformación de Datos\n",
    "\n",
    "* Crea nuevas columnas basadas en operaciones con las columnas existentes (por ejemplo, calcular ingresos a partir de ventas y precios).\n",
    "* Normaliza o estandariza columnas si es necesario.\n",
    "* Clasifica los datos en categorías relevantes.\n",
    "\n"
   ]
  },
  {
   "cell_type": "code",
   "execution_count": 11,
   "metadata": {},
   "outputs": [
    {
     "name": "stdout",
     "output_type": "stream",
     "text": [
      "         date                datetime cash_type                 card  money  \\\n",
      "0  2024-03-01 2024-03-01 10:15:50.520      card  ANON-0000-0000-0001   38.7   \n",
      "1  2024-03-01 2024-03-01 12:19:22.539      card  ANON-0000-0000-0002   38.7   \n",
      "2  2024-03-01 2024-03-01 12:20:18.089      card  ANON-0000-0000-0002   38.7   \n",
      "3  2024-03-01 2024-03-01 13:46:33.006      card  ANON-0000-0000-0003   28.9   \n",
      "4  2024-03-01 2024-03-01 13:48:14.626      card  ANON-0000-0000-0004   38.7   \n",
      "5  2024-03-01 2024-03-01 15:39:47.726      card  ANON-0000-0000-0005   33.8   \n",
      "6  2024-03-01 2024-03-01 16:19:02.756      card  ANON-0000-0000-0006   38.7   \n",
      "7  2024-03-01 2024-03-01 18:39:03.580      card  ANON-0000-0000-0007   33.8   \n",
      "8  2024-03-01 2024-03-01 19:22:01.762      card  ANON-0000-0000-0008   38.7   \n",
      "9  2024-03-01 2024-03-01 19:23:15.887      card  ANON-0000-0000-0008   33.8   \n",
      "\n",
      "           coffee_name  Aumento_10%  Aumento_50%     7%  money_normalizado  \\\n",
      "0                Latte        42.57        58.05  2.709           0.940585   \n",
      "1        Hot Chocolate        42.57        58.05  2.709           0.940585   \n",
      "2        Hot Chocolate        42.57        58.05  2.709           0.940585   \n",
      "3            Americano        31.79        43.35  2.023           0.492687   \n",
      "4                Latte        42.57        58.05  2.709           0.940585   \n",
      "5  Americano with Milk        37.18        50.70  2.366           0.716636   \n",
      "6        Hot Chocolate        42.57        58.05  2.709           0.940585   \n",
      "7  Americano with Milk        37.18        50.70  2.366           0.716636   \n",
      "8                Cocoa        42.57        58.05  2.709           0.940585   \n",
      "9  Americano with Milk        37.18        50.70  2.366           0.716636   \n",
      "\n",
      "  Clasificacion  \n",
      "0   Precio Alto  \n",
      "1   Precio Alto  \n",
      "2   Precio Alto  \n",
      "3   Precio Bajo  \n",
      "4   Precio Alto  \n",
      "5   Precio Alto  \n",
      "6   Precio Alto  \n",
      "7   Precio Alto  \n",
      "8   Precio Alto  \n",
      "9   Precio Alto  \n"
     ]
    }
   ],
   "source": [
    "##Agregar columnas\n",
    "# Calcular el aumento de un 10% y 50% a los precios\n",
    "df['Aumento_10%'] = df['money'].transform(lambda x: x * (1 + 0.10))\n",
    "df['Aumento_50%'] = df['money'].transform(lambda x: x * (1 + 0.50))\n",
    "df['7%'] = df['money'].transform(lambda x: x * 0.07)\n",
    "##Normalizar columna money\n",
    "max_value = df['money'].max()\n",
    "min_value = df['money'].min()\n",
    "df['money_normalizado'] = df['money'].apply(lambda x: (x - min_value) / (max_value - min_value))\n",
    "# Clasificar los precios por alto y bajo costo\n",
    "df['Clasificacion'] = df['money'].apply(lambda x: 'Precio Alto' if x >= 32 else 'Precio Bajo')\n",
    "\n",
    "print(df.head(10))\n",
    "\n"
   ]
  },
  {
   "cell_type": "markdown",
   "metadata": {},
   "source": [
    "Análisis de Datos\n",
    "\n",
    "* Realiza agrupaciones de datos utilizando groupby para obtener insights específicos (por ejemplo, ventas por producto, ventas por región, etc.).\n",
    "* Aplica funciones de agregación como sum, mean, count, min, max, std, y var.\n",
    "* Utiliza el método apply para realizar operaciones más complejas y personalizadas.\n",
    "\n"
   ]
  },
  {
   "cell_type": "code",
   "execution_count": 20,
   "metadata": {},
   "outputs": [
    {
     "name": "stdout",
     "output_type": "stream",
     "text": [
      "Suma total de ventas por tipo de pago\n",
      "cash_type\n",
      "card    60978.28\n",
      "cash     3186.00\n",
      "Name: money, dtype: float64\n",
      "Total ventas por nombre de cafe\n",
      "coffee_name\n",
      "Americano               7066.58\n",
      "Americano with Milk    15023.60\n",
      "Cappuccino             10739.10\n",
      "Cocoa                   2670.48\n",
      "Cortado                 5198.46\n",
      "Espresso                1698.10\n",
      "Hot Chocolate           4951.50\n",
      "Latte                  16816.46\n",
      "Name: money, dtype: float64\n",
      "                          sum       mean  count    min   max       std  \\\n",
      "coffee_name                                                              \n",
      "Americano             7066.58  26.172519    270  23.02  30.0  2.544362   \n",
      "Americano with Milk  15023.60  30.535772    492  27.92  35.0  2.504103   \n",
      "Cappuccino           10739.10  36.158586    297  32.82  40.0  2.464334   \n",
      "Cocoa                 2670.48  35.606400     75  32.82  40.0  2.361438   \n",
      "Cortado               5198.46  25.734950    202  23.02  30.0  2.582052   \n",
      "Espresso              1698.10  20.964198     81  18.12  25.0  2.679096   \n",
      "Hot Chocolate         4951.50  36.408088    136  32.82  40.0  2.153767   \n",
      "Latte                16816.46  35.552770    473  32.82  40.0  2.487798   \n",
      "\n",
      "                          var  \n",
      "coffee_name                    \n",
      "Americano            6.473780  \n",
      "Americano with Milk  6.270532  \n",
      "Cappuccino           6.072943  \n",
      "Cocoa                5.576391  \n",
      "Cortado              6.666993  \n",
      "Espresso             7.177557  \n",
      "Hot Chocolate        4.638710  \n",
      "Latte                6.189138  \n",
      "         date                datetime cash_type                 card  money  \\\n",
      "0  2024-03-01 2024-03-01 10:15:50.520      card  ANON-0000-0000-0001   38.7   \n",
      "1  2024-03-01 2024-03-01 12:19:22.539      card  ANON-0000-0000-0002   38.7   \n",
      "2  2024-03-01 2024-03-01 12:20:18.089      card  ANON-0000-0000-0002   38.7   \n",
      "3  2024-03-01 2024-03-01 13:46:33.006      card  ANON-0000-0000-0003   28.9   \n",
      "4  2024-03-01 2024-03-01 13:48:14.626      card  ANON-0000-0000-0004   38.7   \n",
      "5  2024-03-01 2024-03-01 15:39:47.726      card  ANON-0000-0000-0005   33.8   \n",
      "6  2024-03-01 2024-03-01 16:19:02.756      card  ANON-0000-0000-0006   38.7   \n",
      "7  2024-03-01 2024-03-01 18:39:03.580      card  ANON-0000-0000-0007   33.8   \n",
      "8  2024-03-01 2024-03-01 19:22:01.762      card  ANON-0000-0000-0008   38.7   \n",
      "9  2024-03-01 2024-03-01 19:23:15.887      card  ANON-0000-0000-0008   33.8   \n",
      "\n",
      "           coffee_name  Aumento_10%  Aumento_50%     7%  money_normalizado  \\\n",
      "0                Latte        42.57        58.05  2.709           0.940585   \n",
      "1        Hot Chocolate        42.57        58.05  2.709           0.940585   \n",
      "2        Hot Chocolate        42.57        58.05  2.709           0.940585   \n",
      "3            Americano        31.79        43.35  2.023           0.492687   \n",
      "4                Latte        42.57        58.05  2.709           0.940585   \n",
      "5  Americano with Milk        37.18        50.70  2.366           0.716636   \n",
      "6        Hot Chocolate        42.57        58.05  2.709           0.940585   \n",
      "7  Americano with Milk        37.18        50.70  2.366           0.716636   \n",
      "8                Cocoa        42.57        58.05  2.709           0.940585   \n",
      "9  Americano with Milk        37.18        50.70  2.366           0.716636   \n",
      "\n",
      "  Clasificacion  Aumento_7%  diferencia_del_10%  diferencia_del_50%  \n",
      "0   Precio Alto      41.409                3.87               19.35  \n",
      "1   Precio Alto      41.409                3.87               19.35  \n",
      "2   Precio Alto      41.409                3.87               19.35  \n",
      "3   Precio Bajo      30.923                2.89               14.45  \n",
      "4   Precio Alto      41.409                3.87               19.35  \n",
      "5   Precio Alto      36.166                3.38               16.90  \n",
      "6   Precio Alto      41.409                3.87               19.35  \n",
      "7   Precio Alto      36.166                3.38               16.90  \n",
      "8   Precio Alto      41.409                3.87               19.35  \n",
      "9   Precio Alto      36.166                3.38               16.90  \n"
     ]
    }
   ],
   "source": [
    "##Agrupacion y calculos\n",
    "##Agrupar por cash type\n",
    "grouped = df.groupby('cash_type')\n",
    "## suma de agrupacion tipo de pago\n",
    "total_grouped_payment = grouped['money'].sum()\n",
    "print(\"Suma total de ventas por tipo de pago\")\n",
    "print(total_grouped_payment)\n",
    "\n",
    "##Agrupar por nombre de cafe\n",
    "grouped_coffee = df.groupby('coffee_name')\n",
    "##Suma por nombre de cafe\n",
    "total_grouped_coffee = grouped_coffee['money'].sum()\n",
    "print(\"Total ventas por nombre de cafe\")\n",
    "print(total_grouped_coffee)\n",
    "\n",
    "## Agregacion de sum, mean,count,min,max,std,var\n",
    "##Agrupar cafe por valor\n",
    "precio_x_cafe = df.groupby('coffee_name')['money']\n",
    "# Aplicar múltiples funciones de agregación a 'Money' por 'coffee_name'\n",
    "agg_result = precio_x_cafe.agg(['sum', 'mean', 'count','min','max','std','var'])\n",
    "print(agg_result)\n",
    "\n",
    "##Operaciones complejas con apply\n",
    "\n",
    "# Calcular el aumento del 7% en los precios \n",
    "df['Aumento_7%'] = df.apply(lambda row: row['money'] + row['7%'], axis=1)\n",
    "\n",
    "##Calcular la diferencia del aumento del 10 y 50 %\n",
    "df['diferencia_del_10%'] = df.apply(lambda row: row['Aumento_10%'] - row['money'], axis=1)\n",
    "df['diferencia_del_50%'] = df.apply(lambda row: row['Aumento_50%'] - row['money'], axis=1)\n",
    "\n",
    "print(df.head(10))"
   ]
  },
  {
   "cell_type": "markdown",
   "metadata": {},
   "source": [
    "Documentación\n",
    "\n",
    "* Documenta claramente cada paso del análisis, explicando qué se hizo y por qué se hizo.\n",
    "* Asegúrate de que el código sea legible y esté bien comentado"
   ]
  }
 ],
 "metadata": {
  "kernelspec": {
   "display_name": "bootcamp_coding_dojo",
   "language": "python",
   "name": "python3"
  },
  "language_info": {
   "codemirror_mode": {
    "name": "ipython",
    "version": 3
   },
   "file_extension": ".py",
   "mimetype": "text/x-python",
   "name": "python",
   "nbconvert_exporter": "python",
   "pygments_lexer": "ipython3",
   "version": "3.12.7"
  }
 },
 "nbformat": 4,
 "nbformat_minor": 2
}
